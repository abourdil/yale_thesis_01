{
  "cells": [
    {
      "cell_type": "markdown",
      "metadata": {
        "id": "1b6e4d5a"
      },
      "source": [
        "# Setup"
      ],
      "id": "1b6e4d5a"
    },
    {
      "cell_type": "code",
      "execution_count": 1,
      "metadata": {
        "colab": {
          "base_uri": "https://localhost:8080/"
        },
        "id": "7892945b",
        "outputId": "1b3b6bee-8249-4fa4-82ff-8edb0d98b9ac"
      },
      "outputs": [
        {
          "output_type": "stream",
          "name": "stdout",
          "text": [
            "Requirement already satisfied: pylibjpeg in /usr/local/lib/python3.7/dist-packages (1.3.0)\n",
            "Requirement already satisfied: pylibjpeg-openjpeg in /usr/local/lib/python3.7/dist-packages (from pylibjpeg) (1.1.1)\n",
            "Requirement already satisfied: numpy in /usr/local/lib/python3.7/dist-packages (from pylibjpeg) (1.19.5)\n",
            "Requirement already satisfied: pylibjpeg-rle in /usr/local/lib/python3.7/dist-packages (from pylibjpeg) (1.2.0)\n"
          ]
        }
      ],
      "source": [
        "# packages\n",
        "! pip install pylibjpeg\n",
        "import numpy as np\n",
        "import os \n",
        "import glob\n",
        "import pickle\n",
        "import matplotlib.pyplot as plt\n",
        "#import pydicom\n",
        "# from pydicom.filereader import read_dicomdir\n",
        "# from pydicom import dcmread\n",
        "# from pathlib import Path\n",
        "#import nrrd\n",
        "#import gdcm\n",
        "# from pydicom import dcmread\n",
        "import pylibjpeg\n",
        "\n",
        "import pickle as pkl\n",
        "\n",
        "from matplotlib.colors import NoNorm\n",
        "from IPython.display import display, HTML\n",
        "from IPython.core.interactiveshell import InteractiveShell\n",
        "InteractiveShell.ast_node_interactivity = \"all\"\n",
        "\n",
        "import ipywidgets as widgets\n",
        "from IPython import display\n",
        "import pandas as pd\n",
        "import numpy as np\n",
        "\n",
        "from pathlib import Path\n",
        "#\n",
        "\n",
        "# Google colab file loading.......\n",
        "#!pip install PyDrive\n",
        "from pydrive.auth import GoogleAuth\n",
        "from pydrive.drive import GoogleDrive\n",
        "from google.colab import auth\n",
        "from oauth2client.client import GoogleCredentials\n",
        "\n",
        "auth.authenticate_user()\n",
        "gauth = GoogleAuth()\n",
        "gauth.credentials = GoogleCredentials.get_application_default()\n",
        "drive = GoogleDrive(gauth)\n",
        "\n",
        "from google.colab import files\n",
        "import io"
      ],
      "id": "7892945b"
    },
    {
      "cell_type": "markdown",
      "metadata": {
        "id": "2a4988d6"
      },
      "source": [
        "# Skip to Load Boxed Dataset (Colab)\n"
      ],
      "id": "2a4988d6"
    },
    {
      "cell_type": "code",
      "execution_count": 4,
      "metadata": {
        "id": "maT7qnei-xGa",
        "colab": {
          "base_uri": "https://localhost:8080/",
          "height": 381
        },
        "outputId": "e725f23b-a325-47da-f946-46e07290e05a"
      },
      "outputs": [
        {
          "output_type": "error",
          "ename": "KeyboardInterrupt",
          "evalue": "ignored",
          "traceback": [
            "\u001b[0;31m---------------------------------------------------------------------------\u001b[0m",
            "\u001b[0;31mKeyboardInterrupt\u001b[0m                         Traceback (most recent call last)",
            "\u001b[0;32m<ipython-input-4-952003391280>\u001b[0m in \u001b[0;36m<module>\u001b[0;34m()\u001b[0m\n\u001b[1;32m      1\u001b[0m \u001b[0mdownloaded\u001b[0m \u001b[0;34m=\u001b[0m \u001b[0mdrive\u001b[0m\u001b[0;34m.\u001b[0m\u001b[0mCreateFile\u001b[0m\u001b[0;34m(\u001b[0m\u001b[0;34m{\u001b[0m\u001b[0;34m'id'\u001b[0m\u001b[0;34m:\u001b[0m\u001b[0;34m\"1hc1KNgeU9SzBbi3lbJsdTXjOv_UPW9FW\"\u001b[0m\u001b[0;34m}\u001b[0m\u001b[0;34m)\u001b[0m   \u001b[0;31m# replace the id with id of file you want to access\u001b[0m\u001b[0;34m\u001b[0m\u001b[0;34m\u001b[0m\u001b[0m\n\u001b[0;32m----> 2\u001b[0;31m \u001b[0mdownloaded\u001b[0m\u001b[0;34m.\u001b[0m\u001b[0mGetContentFile\u001b[0m\u001b[0;34m(\u001b[0m\u001b[0;34m'dataset_boxed_sept15.pickle'\u001b[0m\u001b[0;34m)\u001b[0m        \u001b[0;31m# replace the file name with your file\u001b[0m\u001b[0;34m\u001b[0m\u001b[0;34m\u001b[0m\u001b[0m\n\u001b[0m\u001b[1;32m      3\u001b[0m \u001b[0;34m\u001b[0m\u001b[0m\n\u001b[1;32m      4\u001b[0m \u001b[0mdownloaded\u001b[0m \u001b[0;34m=\u001b[0m \u001b[0mdrive\u001b[0m\u001b[0;34m.\u001b[0m\u001b[0mCreateFile\u001b[0m\u001b[0;34m(\u001b[0m\u001b[0;34m{\u001b[0m\u001b[0;34m'id'\u001b[0m\u001b[0;34m:\u001b[0m\u001b[0;34m\"1WYr2baPz_M6fMzyAAH1G6uEo0nFiW6yO\"\u001b[0m\u001b[0;34m}\u001b[0m\u001b[0;34m)\u001b[0m   \u001b[0;31m# replace the id with id of file you want to access\u001b[0m\u001b[0;34m\u001b[0m\u001b[0;34m\u001b[0m\u001b[0m\n\u001b[1;32m      5\u001b[0m \u001b[0mdownloaded\u001b[0m\u001b[0;34m.\u001b[0m\u001b[0mGetContentFile\u001b[0m\u001b[0;34m(\u001b[0m\u001b[0;34m'outcome_sept20.csv'\u001b[0m\u001b[0;34m)\u001b[0m\u001b[0;34m\u001b[0m\u001b[0;34m\u001b[0m\u001b[0m\n",
            "\u001b[0;32m/usr/local/lib/python3.7/dist-packages/pydrive/files.py\u001b[0m in \u001b[0;36mGetContentFile\u001b[0;34m(self, filename, mimetype, remove_bom)\u001b[0m\n\u001b[1;32m    208\u001b[0m                     \u001b[0mtype\u001b[0m\u001b[0;34m(\u001b[0m\u001b[0mself\u001b[0m\u001b[0;34m.\u001b[0m\u001b[0mcontent\u001b[0m\u001b[0;34m)\u001b[0m \u001b[0;32mis\u001b[0m \u001b[0;32mnot\u001b[0m \u001b[0mio\u001b[0m\u001b[0;34m.\u001b[0m\u001b[0mBytesIO\u001b[0m \u001b[0;32mor\u001b[0m\u001b[0;31m \u001b[0m\u001b[0;31m\\\u001b[0m\u001b[0;34m\u001b[0m\u001b[0;34m\u001b[0m\u001b[0m\n\u001b[1;32m    209\u001b[0m                     \u001b[0mself\u001b[0m\u001b[0;34m.\u001b[0m\u001b[0mhas_bom\u001b[0m \u001b[0;34m==\u001b[0m \u001b[0mremove_bom\u001b[0m\u001b[0;34m:\u001b[0m\u001b[0;34m\u001b[0m\u001b[0;34m\u001b[0m\u001b[0m\n\u001b[0;32m--> 210\u001b[0;31m       \u001b[0mself\u001b[0m\u001b[0;34m.\u001b[0m\u001b[0mFetchContent\u001b[0m\u001b[0;34m(\u001b[0m\u001b[0mmimetype\u001b[0m\u001b[0;34m,\u001b[0m \u001b[0mremove_bom\u001b[0m\u001b[0;34m)\u001b[0m\u001b[0;34m\u001b[0m\u001b[0;34m\u001b[0m\u001b[0m\n\u001b[0m\u001b[1;32m    211\u001b[0m     \u001b[0mf\u001b[0m \u001b[0;34m=\u001b[0m \u001b[0mopen\u001b[0m\u001b[0;34m(\u001b[0m\u001b[0mfilename\u001b[0m\u001b[0;34m,\u001b[0m \u001b[0;34m'wb'\u001b[0m\u001b[0;34m)\u001b[0m\u001b[0;34m\u001b[0m\u001b[0;34m\u001b[0m\u001b[0m\n\u001b[1;32m    212\u001b[0m     \u001b[0mf\u001b[0m\u001b[0;34m.\u001b[0m\u001b[0mwrite\u001b[0m\u001b[0;34m(\u001b[0m\u001b[0mself\u001b[0m\u001b[0;34m.\u001b[0m\u001b[0mcontent\u001b[0m\u001b[0;34m.\u001b[0m\u001b[0mgetvalue\u001b[0m\u001b[0;34m(\u001b[0m\u001b[0;34m)\u001b[0m\u001b[0;34m)\u001b[0m\u001b[0;34m\u001b[0m\u001b[0;34m\u001b[0m\u001b[0m\n",
            "\u001b[0;32m/usr/local/lib/python3.7/dist-packages/pydrive/files.py\u001b[0m in \u001b[0;36m_decorated\u001b[0;34m(self, *args, **kwargs)\u001b[0m\n\u001b[1;32m     41\u001b[0m     \u001b[0;32mif\u001b[0m \u001b[0;32mnot\u001b[0m \u001b[0mself\u001b[0m\u001b[0;34m.\u001b[0m\u001b[0muploaded\u001b[0m\u001b[0;34m:\u001b[0m\u001b[0;34m\u001b[0m\u001b[0;34m\u001b[0m\u001b[0m\n\u001b[1;32m     42\u001b[0m       \u001b[0mself\u001b[0m\u001b[0;34m.\u001b[0m\u001b[0mFetchMetadata\u001b[0m\u001b[0;34m(\u001b[0m\u001b[0;34m)\u001b[0m\u001b[0;34m\u001b[0m\u001b[0;34m\u001b[0m\u001b[0m\n\u001b[0;32m---> 43\u001b[0;31m     \u001b[0;32mreturn\u001b[0m \u001b[0mdecoratee\u001b[0m\u001b[0;34m(\u001b[0m\u001b[0mself\u001b[0m\u001b[0;34m,\u001b[0m \u001b[0;34m*\u001b[0m\u001b[0margs\u001b[0m\u001b[0;34m,\u001b[0m \u001b[0;34m**\u001b[0m\u001b[0mkwargs\u001b[0m\u001b[0;34m)\u001b[0m\u001b[0;34m\u001b[0m\u001b[0;34m\u001b[0m\u001b[0m\n\u001b[0m\u001b[1;32m     44\u001b[0m   \u001b[0;32mreturn\u001b[0m \u001b[0m_decorated\u001b[0m\u001b[0;34m\u001b[0m\u001b[0;34m\u001b[0m\u001b[0m\n\u001b[1;32m     45\u001b[0m \u001b[0;34m\u001b[0m\u001b[0m\n",
            "\u001b[0;32m/usr/local/lib/python3.7/dist-packages/pydrive/files.py\u001b[0m in \u001b[0;36mFetchContent\u001b[0;34m(self, mimetype, remove_bom)\u001b[0m\n\u001b[1;32m    253\u001b[0m     \u001b[0mexport_links\u001b[0m \u001b[0;34m=\u001b[0m \u001b[0mself\u001b[0m\u001b[0;34m.\u001b[0m\u001b[0mmetadata\u001b[0m\u001b[0;34m.\u001b[0m\u001b[0mget\u001b[0m\u001b[0;34m(\u001b[0m\u001b[0;34m'exportLinks'\u001b[0m\u001b[0;34m)\u001b[0m\u001b[0;34m\u001b[0m\u001b[0;34m\u001b[0m\u001b[0m\n\u001b[1;32m    254\u001b[0m     \u001b[0;32mif\u001b[0m \u001b[0mdownload_url\u001b[0m\u001b[0;34m:\u001b[0m\u001b[0;34m\u001b[0m\u001b[0;34m\u001b[0m\u001b[0m\n\u001b[0;32m--> 255\u001b[0;31m       \u001b[0mself\u001b[0m\u001b[0;34m.\u001b[0m\u001b[0mcontent\u001b[0m \u001b[0;34m=\u001b[0m \u001b[0mio\u001b[0m\u001b[0;34m.\u001b[0m\u001b[0mBytesIO\u001b[0m\u001b[0;34m(\u001b[0m\u001b[0mself\u001b[0m\u001b[0;34m.\u001b[0m\u001b[0m_DownloadFromUrl\u001b[0m\u001b[0;34m(\u001b[0m\u001b[0mdownload_url\u001b[0m\u001b[0;34m)\u001b[0m\u001b[0;34m)\u001b[0m\u001b[0;34m\u001b[0m\u001b[0;34m\u001b[0m\u001b[0m\n\u001b[0m\u001b[1;32m    256\u001b[0m       \u001b[0mself\u001b[0m\u001b[0;34m.\u001b[0m\u001b[0mdirty\u001b[0m\u001b[0;34m[\u001b[0m\u001b[0;34m'content'\u001b[0m\u001b[0;34m]\u001b[0m \u001b[0;34m=\u001b[0m \u001b[0;32mFalse\u001b[0m\u001b[0;34m\u001b[0m\u001b[0;34m\u001b[0m\u001b[0m\n\u001b[1;32m    257\u001b[0m \u001b[0;34m\u001b[0m\u001b[0m\n",
            "\u001b[0;32m/usr/local/lib/python3.7/dist-packages/pydrive/auth.py\u001b[0m in \u001b[0;36m_decorated\u001b[0;34m(self, *args, **kwargs)\u001b[0m\n\u001b[1;32m     73\u001b[0m       \u001b[0mself\u001b[0m\u001b[0;34m.\u001b[0m\u001b[0mhttp\u001b[0m \u001b[0;34m=\u001b[0m \u001b[0mself\u001b[0m\u001b[0;34m.\u001b[0m\u001b[0mauth\u001b[0m\u001b[0;34m.\u001b[0m\u001b[0mGet_Http_Object\u001b[0m\u001b[0;34m(\u001b[0m\u001b[0;34m)\u001b[0m\u001b[0;34m\u001b[0m\u001b[0;34m\u001b[0m\u001b[0m\n\u001b[1;32m     74\u001b[0m \u001b[0;34m\u001b[0m\u001b[0m\n\u001b[0;32m---> 75\u001b[0;31m     \u001b[0;32mreturn\u001b[0m \u001b[0mdecoratee\u001b[0m\u001b[0;34m(\u001b[0m\u001b[0mself\u001b[0m\u001b[0;34m,\u001b[0m \u001b[0;34m*\u001b[0m\u001b[0margs\u001b[0m\u001b[0;34m,\u001b[0m \u001b[0;34m**\u001b[0m\u001b[0mkwargs\u001b[0m\u001b[0;34m)\u001b[0m\u001b[0;34m\u001b[0m\u001b[0;34m\u001b[0m\u001b[0m\n\u001b[0m\u001b[1;32m     76\u001b[0m   \u001b[0;32mreturn\u001b[0m \u001b[0m_decorated\u001b[0m\u001b[0;34m\u001b[0m\u001b[0;34m\u001b[0m\u001b[0m\n\u001b[1;32m     77\u001b[0m \u001b[0;34m\u001b[0m\u001b[0m\n",
            "\u001b[0;32m/usr/local/lib/python3.7/dist-packages/pydrive/files.py\u001b[0m in \u001b[0;36m_DownloadFromUrl\u001b[0;34m(self, url)\u001b[0m\n\u001b[1;32m    501\u001b[0m     \u001b[0;34m:\u001b[0m\u001b[0mraises\u001b[0m\u001b[0;34m:\u001b[0m \u001b[0mApiRequestError\u001b[0m\u001b[0;34m\u001b[0m\u001b[0;34m\u001b[0m\u001b[0m\n\u001b[1;32m    502\u001b[0m     \"\"\"\n\u001b[0;32m--> 503\u001b[0;31m     \u001b[0mresp\u001b[0m\u001b[0;34m,\u001b[0m \u001b[0mcontent\u001b[0m \u001b[0;34m=\u001b[0m \u001b[0mself\u001b[0m\u001b[0;34m.\u001b[0m\u001b[0mhttp\u001b[0m\u001b[0;34m.\u001b[0m\u001b[0mrequest\u001b[0m\u001b[0;34m(\u001b[0m\u001b[0murl\u001b[0m\u001b[0;34m)\u001b[0m\u001b[0;34m\u001b[0m\u001b[0;34m\u001b[0m\u001b[0m\n\u001b[0m\u001b[1;32m    504\u001b[0m     \u001b[0;32mif\u001b[0m \u001b[0mresp\u001b[0m\u001b[0;34m.\u001b[0m\u001b[0mstatus\u001b[0m \u001b[0;34m!=\u001b[0m \u001b[0;36m200\u001b[0m\u001b[0;34m:\u001b[0m\u001b[0;34m\u001b[0m\u001b[0;34m\u001b[0m\u001b[0m\n\u001b[1;32m    505\u001b[0m       \u001b[0;32mraise\u001b[0m \u001b[0mApiRequestError\u001b[0m\u001b[0;34m(\u001b[0m\u001b[0;34m'Cannot download file: %s'\u001b[0m \u001b[0;34m%\u001b[0m \u001b[0mresp\u001b[0m\u001b[0;34m)\u001b[0m\u001b[0;34m\u001b[0m\u001b[0;34m\u001b[0m\u001b[0m\n",
            "\u001b[0;32m/usr/local/lib/python3.7/dist-packages/oauth2client/transport.py\u001b[0m in \u001b[0;36mnew_request\u001b[0;34m(uri, method, body, headers, redirections, connection_type)\u001b[0m\n\u001b[1;32m    173\u001b[0m         resp, content = request(orig_request_method, uri, method, body,\n\u001b[1;32m    174\u001b[0m                                 \u001b[0mclean_headers\u001b[0m\u001b[0;34m(\u001b[0m\u001b[0mheaders\u001b[0m\u001b[0;34m)\u001b[0m\u001b[0;34m,\u001b[0m\u001b[0;34m\u001b[0m\u001b[0;34m\u001b[0m\u001b[0m\n\u001b[0;32m--> 175\u001b[0;31m                                 redirections, connection_type)\n\u001b[0m\u001b[1;32m    176\u001b[0m \u001b[0;34m\u001b[0m\u001b[0m\n\u001b[1;32m    177\u001b[0m         \u001b[0;31m# A stored token may expire between the time it is retrieved and\u001b[0m\u001b[0;34m\u001b[0m\u001b[0;34m\u001b[0m\u001b[0;34m\u001b[0m\u001b[0m\n",
            "\u001b[0;32m/usr/local/lib/python3.7/dist-packages/oauth2client/transport.py\u001b[0m in \u001b[0;36mrequest\u001b[0;34m(http, uri, method, body, headers, redirections, connection_type)\u001b[0m\n\u001b[1;32m    280\u001b[0m     return http_callable(uri, method=method, body=body, headers=headers,\n\u001b[1;32m    281\u001b[0m                          \u001b[0mredirections\u001b[0m\u001b[0;34m=\u001b[0m\u001b[0mredirections\u001b[0m\u001b[0;34m,\u001b[0m\u001b[0;34m\u001b[0m\u001b[0;34m\u001b[0m\u001b[0m\n\u001b[0;32m--> 282\u001b[0;31m                          connection_type=connection_type)\n\u001b[0m\u001b[1;32m    283\u001b[0m \u001b[0;34m\u001b[0m\u001b[0m\n\u001b[1;32m    284\u001b[0m \u001b[0;34m\u001b[0m\u001b[0m\n",
            "\u001b[0;32m/usr/local/lib/python3.7/dist-packages/httplib2/__init__.py\u001b[0m in \u001b[0;36mrequest\u001b[0;34m(self, uri, method, body, headers, redirections, connection_type)\u001b[0m\n\u001b[1;32m   1989\u001b[0m                         \u001b[0mheaders\u001b[0m\u001b[0;34m,\u001b[0m\u001b[0;34m\u001b[0m\u001b[0;34m\u001b[0m\u001b[0m\n\u001b[1;32m   1990\u001b[0m                         \u001b[0mredirections\u001b[0m\u001b[0;34m,\u001b[0m\u001b[0;34m\u001b[0m\u001b[0;34m\u001b[0m\u001b[0m\n\u001b[0;32m-> 1991\u001b[0;31m                         \u001b[0mcachekey\u001b[0m\u001b[0;34m,\u001b[0m\u001b[0;34m\u001b[0m\u001b[0;34m\u001b[0m\u001b[0m\n\u001b[0m\u001b[1;32m   1992\u001b[0m                     )\n\u001b[1;32m   1993\u001b[0m         \u001b[0;32mexcept\u001b[0m \u001b[0mException\u001b[0m \u001b[0;32mas\u001b[0m \u001b[0me\u001b[0m\u001b[0;34m:\u001b[0m\u001b[0;34m\u001b[0m\u001b[0;34m\u001b[0m\u001b[0m\n",
            "\u001b[0;32m/usr/local/lib/python3.7/dist-packages/httplib2/__init__.py\u001b[0m in \u001b[0;36m_request\u001b[0;34m(self, conn, host, absolute_uri, request_uri, method, body, headers, redirections, cachekey)\u001b[0m\n\u001b[1;32m   1649\u001b[0m \u001b[0;34m\u001b[0m\u001b[0m\n\u001b[1;32m   1650\u001b[0m         (response, content) = self._conn_request(\n\u001b[0;32m-> 1651\u001b[0;31m             \u001b[0mconn\u001b[0m\u001b[0;34m,\u001b[0m \u001b[0mrequest_uri\u001b[0m\u001b[0;34m,\u001b[0m \u001b[0mmethod\u001b[0m\u001b[0;34m,\u001b[0m \u001b[0mbody\u001b[0m\u001b[0;34m,\u001b[0m \u001b[0mheaders\u001b[0m\u001b[0;34m\u001b[0m\u001b[0;34m\u001b[0m\u001b[0m\n\u001b[0m\u001b[1;32m   1652\u001b[0m         )\n\u001b[1;32m   1653\u001b[0m \u001b[0;34m\u001b[0m\u001b[0m\n",
            "\u001b[0;32m/usr/local/lib/python3.7/dist-packages/httplib2/__init__.py\u001b[0m in \u001b[0;36m_conn_request\u001b[0;34m(self, conn, request_uri, method, body, headers)\u001b[0m\n\u001b[1;32m   1616\u001b[0m                     \u001b[0mconn\u001b[0m\u001b[0;34m.\u001b[0m\u001b[0mclose\u001b[0m\u001b[0;34m(\u001b[0m\u001b[0;34m)\u001b[0m\u001b[0;34m\u001b[0m\u001b[0;34m\u001b[0m\u001b[0m\n\u001b[1;32m   1617\u001b[0m                 \u001b[0;32melse\u001b[0m\u001b[0;34m:\u001b[0m\u001b[0;34m\u001b[0m\u001b[0;34m\u001b[0m\u001b[0m\n\u001b[0;32m-> 1618\u001b[0;31m                     \u001b[0mcontent\u001b[0m \u001b[0;34m=\u001b[0m \u001b[0mresponse\u001b[0m\u001b[0;34m.\u001b[0m\u001b[0mread\u001b[0m\u001b[0;34m(\u001b[0m\u001b[0;34m)\u001b[0m\u001b[0;34m\u001b[0m\u001b[0;34m\u001b[0m\u001b[0m\n\u001b[0m\u001b[1;32m   1619\u001b[0m                 \u001b[0mresponse\u001b[0m \u001b[0;34m=\u001b[0m \u001b[0mResponse\u001b[0m\u001b[0;34m(\u001b[0m\u001b[0mresponse\u001b[0m\u001b[0;34m)\u001b[0m\u001b[0;34m\u001b[0m\u001b[0;34m\u001b[0m\u001b[0m\n\u001b[1;32m   1620\u001b[0m                 \u001b[0;32mif\u001b[0m \u001b[0mmethod\u001b[0m \u001b[0;34m!=\u001b[0m \u001b[0;34m\"HEAD\"\u001b[0m\u001b[0;34m:\u001b[0m\u001b[0;34m\u001b[0m\u001b[0;34m\u001b[0m\u001b[0m\n",
            "\u001b[0;32m/usr/lib/python3.7/http/client.py\u001b[0m in \u001b[0;36mread\u001b[0;34m(self, amt)\u001b[0m\n\u001b[1;32m    470\u001b[0m \u001b[0;34m\u001b[0m\u001b[0m\n\u001b[1;32m    471\u001b[0m             \u001b[0;32mif\u001b[0m \u001b[0mself\u001b[0m\u001b[0;34m.\u001b[0m\u001b[0mchunked\u001b[0m\u001b[0;34m:\u001b[0m\u001b[0;34m\u001b[0m\u001b[0;34m\u001b[0m\u001b[0m\n\u001b[0;32m--> 472\u001b[0;31m                 \u001b[0;32mreturn\u001b[0m \u001b[0mself\u001b[0m\u001b[0;34m.\u001b[0m\u001b[0m_readall_chunked\u001b[0m\u001b[0;34m(\u001b[0m\u001b[0;34m)\u001b[0m\u001b[0;34m\u001b[0m\u001b[0;34m\u001b[0m\u001b[0m\n\u001b[0m\u001b[1;32m    473\u001b[0m \u001b[0;34m\u001b[0m\u001b[0m\n\u001b[1;32m    474\u001b[0m             \u001b[0;32mif\u001b[0m \u001b[0mself\u001b[0m\u001b[0;34m.\u001b[0m\u001b[0mlength\u001b[0m \u001b[0;32mis\u001b[0m \u001b[0;32mNone\u001b[0m\u001b[0;34m:\u001b[0m\u001b[0;34m\u001b[0m\u001b[0;34m\u001b[0m\u001b[0m\n",
            "\u001b[0;32m/usr/lib/python3.7/http/client.py\u001b[0m in \u001b[0;36m_readall_chunked\u001b[0;34m(self)\u001b[0m\n\u001b[1;32m    577\u001b[0m         \u001b[0;32mtry\u001b[0m\u001b[0;34m:\u001b[0m\u001b[0;34m\u001b[0m\u001b[0;34m\u001b[0m\u001b[0m\n\u001b[1;32m    578\u001b[0m             \u001b[0;32mwhile\u001b[0m \u001b[0;32mTrue\u001b[0m\u001b[0;34m:\u001b[0m\u001b[0;34m\u001b[0m\u001b[0;34m\u001b[0m\u001b[0m\n\u001b[0;32m--> 579\u001b[0;31m                 \u001b[0mchunk_left\u001b[0m \u001b[0;34m=\u001b[0m \u001b[0mself\u001b[0m\u001b[0;34m.\u001b[0m\u001b[0m_get_chunk_left\u001b[0m\u001b[0;34m(\u001b[0m\u001b[0;34m)\u001b[0m\u001b[0;34m\u001b[0m\u001b[0;34m\u001b[0m\u001b[0m\n\u001b[0m\u001b[1;32m    580\u001b[0m                 \u001b[0;32mif\u001b[0m \u001b[0mchunk_left\u001b[0m \u001b[0;32mis\u001b[0m \u001b[0;32mNone\u001b[0m\u001b[0;34m:\u001b[0m\u001b[0;34m\u001b[0m\u001b[0;34m\u001b[0m\u001b[0m\n\u001b[1;32m    581\u001b[0m                     \u001b[0;32mbreak\u001b[0m\u001b[0;34m\u001b[0m\u001b[0;34m\u001b[0m\u001b[0m\n",
            "\u001b[0;32m/usr/lib/python3.7/http/client.py\u001b[0m in \u001b[0;36m_get_chunk_left\u001b[0;34m(self)\u001b[0m\n\u001b[1;32m    560\u001b[0m                 \u001b[0mself\u001b[0m\u001b[0;34m.\u001b[0m\u001b[0m_safe_read\u001b[0m\u001b[0;34m(\u001b[0m\u001b[0;36m2\u001b[0m\u001b[0;34m)\u001b[0m  \u001b[0;31m# toss the CRLF at the end of the chunk\u001b[0m\u001b[0;34m\u001b[0m\u001b[0;34m\u001b[0m\u001b[0m\n\u001b[1;32m    561\u001b[0m             \u001b[0;32mtry\u001b[0m\u001b[0;34m:\u001b[0m\u001b[0;34m\u001b[0m\u001b[0;34m\u001b[0m\u001b[0m\n\u001b[0;32m--> 562\u001b[0;31m                 \u001b[0mchunk_left\u001b[0m \u001b[0;34m=\u001b[0m \u001b[0mself\u001b[0m\u001b[0;34m.\u001b[0m\u001b[0m_read_next_chunk_size\u001b[0m\u001b[0;34m(\u001b[0m\u001b[0;34m)\u001b[0m\u001b[0;34m\u001b[0m\u001b[0;34m\u001b[0m\u001b[0m\n\u001b[0m\u001b[1;32m    563\u001b[0m             \u001b[0;32mexcept\u001b[0m \u001b[0mValueError\u001b[0m\u001b[0;34m:\u001b[0m\u001b[0;34m\u001b[0m\u001b[0;34m\u001b[0m\u001b[0m\n\u001b[1;32m    564\u001b[0m                 \u001b[0;32mraise\u001b[0m \u001b[0mIncompleteRead\u001b[0m\u001b[0;34m(\u001b[0m\u001b[0;34mb''\u001b[0m\u001b[0;34m)\u001b[0m\u001b[0;34m\u001b[0m\u001b[0;34m\u001b[0m\u001b[0m\n",
            "\u001b[0;32m/usr/lib/python3.7/http/client.py\u001b[0m in \u001b[0;36m_read_next_chunk_size\u001b[0;34m(self)\u001b[0m\n\u001b[1;32m    520\u001b[0m     \u001b[0;32mdef\u001b[0m \u001b[0m_read_next_chunk_size\u001b[0m\u001b[0;34m(\u001b[0m\u001b[0mself\u001b[0m\u001b[0;34m)\u001b[0m\u001b[0;34m:\u001b[0m\u001b[0;34m\u001b[0m\u001b[0;34m\u001b[0m\u001b[0m\n\u001b[1;32m    521\u001b[0m         \u001b[0;31m# Read the next chunk size from the file\u001b[0m\u001b[0;34m\u001b[0m\u001b[0;34m\u001b[0m\u001b[0;34m\u001b[0m\u001b[0m\n\u001b[0;32m--> 522\u001b[0;31m         \u001b[0mline\u001b[0m \u001b[0;34m=\u001b[0m \u001b[0mself\u001b[0m\u001b[0;34m.\u001b[0m\u001b[0mfp\u001b[0m\u001b[0;34m.\u001b[0m\u001b[0mreadline\u001b[0m\u001b[0;34m(\u001b[0m\u001b[0m_MAXLINE\u001b[0m \u001b[0;34m+\u001b[0m \u001b[0;36m1\u001b[0m\u001b[0;34m)\u001b[0m\u001b[0;34m\u001b[0m\u001b[0;34m\u001b[0m\u001b[0m\n\u001b[0m\u001b[1;32m    523\u001b[0m         \u001b[0;32mif\u001b[0m \u001b[0mlen\u001b[0m\u001b[0;34m(\u001b[0m\u001b[0mline\u001b[0m\u001b[0;34m)\u001b[0m \u001b[0;34m>\u001b[0m \u001b[0m_MAXLINE\u001b[0m\u001b[0;34m:\u001b[0m\u001b[0;34m\u001b[0m\u001b[0;34m\u001b[0m\u001b[0m\n\u001b[1;32m    524\u001b[0m             \u001b[0;32mraise\u001b[0m \u001b[0mLineTooLong\u001b[0m\u001b[0;34m(\u001b[0m\u001b[0;34m\"chunk size\"\u001b[0m\u001b[0;34m)\u001b[0m\u001b[0;34m\u001b[0m\u001b[0;34m\u001b[0m\u001b[0m\n",
            "\u001b[0;32m/usr/lib/python3.7/socket.py\u001b[0m in \u001b[0;36mreadinto\u001b[0;34m(self, b)\u001b[0m\n\u001b[1;32m    587\u001b[0m         \u001b[0;32mwhile\u001b[0m \u001b[0;32mTrue\u001b[0m\u001b[0;34m:\u001b[0m\u001b[0;34m\u001b[0m\u001b[0;34m\u001b[0m\u001b[0m\n\u001b[1;32m    588\u001b[0m             \u001b[0;32mtry\u001b[0m\u001b[0;34m:\u001b[0m\u001b[0;34m\u001b[0m\u001b[0;34m\u001b[0m\u001b[0m\n\u001b[0;32m--> 589\u001b[0;31m                 \u001b[0;32mreturn\u001b[0m \u001b[0mself\u001b[0m\u001b[0;34m.\u001b[0m\u001b[0m_sock\u001b[0m\u001b[0;34m.\u001b[0m\u001b[0mrecv_into\u001b[0m\u001b[0;34m(\u001b[0m\u001b[0mb\u001b[0m\u001b[0;34m)\u001b[0m\u001b[0;34m\u001b[0m\u001b[0;34m\u001b[0m\u001b[0m\n\u001b[0m\u001b[1;32m    590\u001b[0m             \u001b[0;32mexcept\u001b[0m \u001b[0mtimeout\u001b[0m\u001b[0;34m:\u001b[0m\u001b[0;34m\u001b[0m\u001b[0;34m\u001b[0m\u001b[0m\n\u001b[1;32m    591\u001b[0m                 \u001b[0mself\u001b[0m\u001b[0;34m.\u001b[0m\u001b[0m_timeout_occurred\u001b[0m \u001b[0;34m=\u001b[0m \u001b[0;32mTrue\u001b[0m\u001b[0;34m\u001b[0m\u001b[0;34m\u001b[0m\u001b[0m\n",
            "\u001b[0;32m/usr/lib/python3.7/ssl.py\u001b[0m in \u001b[0;36mrecv_into\u001b[0;34m(self, buffer, nbytes, flags)\u001b[0m\n\u001b[1;32m   1069\u001b[0m                   \u001b[0;34m\"non-zero flags not allowed in calls to recv_into() on %s\"\u001b[0m \u001b[0;34m%\u001b[0m\u001b[0;34m\u001b[0m\u001b[0;34m\u001b[0m\u001b[0m\n\u001b[1;32m   1070\u001b[0m                   self.__class__)\n\u001b[0;32m-> 1071\u001b[0;31m             \u001b[0;32mreturn\u001b[0m \u001b[0mself\u001b[0m\u001b[0;34m.\u001b[0m\u001b[0mread\u001b[0m\u001b[0;34m(\u001b[0m\u001b[0mnbytes\u001b[0m\u001b[0;34m,\u001b[0m \u001b[0mbuffer\u001b[0m\u001b[0;34m)\u001b[0m\u001b[0;34m\u001b[0m\u001b[0;34m\u001b[0m\u001b[0m\n\u001b[0m\u001b[1;32m   1072\u001b[0m         \u001b[0;32melse\u001b[0m\u001b[0;34m:\u001b[0m\u001b[0;34m\u001b[0m\u001b[0;34m\u001b[0m\u001b[0m\n\u001b[1;32m   1073\u001b[0m             \u001b[0;32mreturn\u001b[0m \u001b[0msuper\u001b[0m\u001b[0;34m(\u001b[0m\u001b[0;34m)\u001b[0m\u001b[0;34m.\u001b[0m\u001b[0mrecv_into\u001b[0m\u001b[0;34m(\u001b[0m\u001b[0mbuffer\u001b[0m\u001b[0;34m,\u001b[0m \u001b[0mnbytes\u001b[0m\u001b[0;34m,\u001b[0m \u001b[0mflags\u001b[0m\u001b[0;34m)\u001b[0m\u001b[0;34m\u001b[0m\u001b[0;34m\u001b[0m\u001b[0m\n",
            "\u001b[0;32m/usr/lib/python3.7/ssl.py\u001b[0m in \u001b[0;36mread\u001b[0;34m(self, len, buffer)\u001b[0m\n\u001b[1;32m    927\u001b[0m         \u001b[0;32mtry\u001b[0m\u001b[0;34m:\u001b[0m\u001b[0;34m\u001b[0m\u001b[0;34m\u001b[0m\u001b[0m\n\u001b[1;32m    928\u001b[0m             \u001b[0;32mif\u001b[0m \u001b[0mbuffer\u001b[0m \u001b[0;32mis\u001b[0m \u001b[0;32mnot\u001b[0m \u001b[0;32mNone\u001b[0m\u001b[0;34m:\u001b[0m\u001b[0;34m\u001b[0m\u001b[0;34m\u001b[0m\u001b[0m\n\u001b[0;32m--> 929\u001b[0;31m                 \u001b[0;32mreturn\u001b[0m \u001b[0mself\u001b[0m\u001b[0;34m.\u001b[0m\u001b[0m_sslobj\u001b[0m\u001b[0;34m.\u001b[0m\u001b[0mread\u001b[0m\u001b[0;34m(\u001b[0m\u001b[0mlen\u001b[0m\u001b[0;34m,\u001b[0m \u001b[0mbuffer\u001b[0m\u001b[0;34m)\u001b[0m\u001b[0;34m\u001b[0m\u001b[0;34m\u001b[0m\u001b[0m\n\u001b[0m\u001b[1;32m    930\u001b[0m             \u001b[0;32melse\u001b[0m\u001b[0;34m:\u001b[0m\u001b[0;34m\u001b[0m\u001b[0;34m\u001b[0m\u001b[0m\n\u001b[1;32m    931\u001b[0m                 \u001b[0;32mreturn\u001b[0m \u001b[0mself\u001b[0m\u001b[0;34m.\u001b[0m\u001b[0m_sslobj\u001b[0m\u001b[0;34m.\u001b[0m\u001b[0mread\u001b[0m\u001b[0;34m(\u001b[0m\u001b[0mlen\u001b[0m\u001b[0;34m)\u001b[0m\u001b[0;34m\u001b[0m\u001b[0;34m\u001b[0m\u001b[0m\n",
            "\u001b[0;31mKeyboardInterrupt\u001b[0m: "
          ]
        }
      ],
      "source": [
        "downloaded = drive.CreateFile({'id':\"1hc1KNgeU9SzBbi3lbJsdTXjOv_UPW9FW\"})   # replace the id with id of file you want to access\n",
        "downloaded.GetContentFile('dataset_boxed_sept15.pickle')        # replace the file name with your file\n",
        "\n",
        "downloaded = drive.CreateFile({'id':\"1WYr2baPz_M6fMzyAAH1G6uEo0nFiW6yO\"})   # replace the id with id of file you want to access\n",
        "downloaded.GetContentFile('outcome_sept20.csv')\n",
        "\n",
        "downloaded = drive.CreateFile({'id':\"1JrG0xDmq7uVFWImhwz6ENR5WxfVCoRjQ\"})   # replace the id with id of file you want to access\n",
        "downloaded.GetContentFile('all_cases_sept20.pickle')\n",
        "\n",
        "data_boxed = pickle.load(open('dataset_boxed_sept15.pickle','rb'))\n",
        "all_cases = pickle.load(open('all_cases_sept20.pickle','rb'))\n",
        "all_cases.remove('125')\n",
        "all_cases.remove('204')\n",
        "all_cases.remove('205')\n",
        "# all_cases"
      ],
      "id": "maT7qnei-xGa"
    },
    {
      "cell_type": "markdown",
      "metadata": {
        "id": "4b205a6b"
      },
      "source": [
        "# CNN: Analysis 1"
      ],
      "id": "4b205a6b"
    },
    {
      "cell_type": "code",
      "execution_count": 2,
      "metadata": {
        "id": "d3156400",
        "colab": {
          "base_uri": "https://localhost:8080/",
          "height": 17
        },
        "outputId": "3495925d-a4c1-409d-9aae-09dfc576f87a"
      },
      "outputs": [
        {
          "output_type": "display_data",
          "data": {
            "text/html": [
              "        <script type=\"text/javascript\">\n",
              "        window.PlotlyConfig = {MathJaxConfig: 'local'};\n",
              "        if (window.MathJax) {MathJax.Hub.Config({SVG: {font: \"STIX-Web\"}});}\n",
              "        if (typeof require !== 'undefined') {\n",
              "        require.undef(\"plotly\");\n",
              "        requirejs.config({\n",
              "            paths: {\n",
              "                'plotly': ['https://cdn.plot.ly/plotly-latest.min']\n",
              "            }\n",
              "        });\n",
              "        require(['plotly'], function(Plotly) {\n",
              "            window._Plotly = Plotly;\n",
              "        });\n",
              "        }\n",
              "        </script>\n",
              "        "
            ]
          },
          "metadata": {}
        }
      ],
      "source": [
        "from keras.models import Sequential\n",
        "from keras.layers import Dense\n",
        "import numpy as np\n",
        "from keras.layers import Dense, Dropout, Activation, Flatten\n",
        "from keras.utils import np_utils\n",
        "import sklearn\n",
        "import keras\n",
        "import tensorflow as tf\n",
        "\n",
        "from tensorflow.keras.datasets import cifar10\n",
        "from tensorflow.keras.models import Sequential\n",
        "from tensorflow.keras.layers import Dense, Flatten, Conv2D, MaxPooling2D\n",
        "from tensorflow.keras.losses import sparse_categorical_crossentropy\n",
        "from tensorflow.keras.optimizers import Adam\n",
        "from tensorflow.keras import layers\n",
        "from tensorflow.keras import initializers\n",
        "from sklearn.model_selection import KFold\n",
        "import numpy as np\n",
        "import random\n",
        "\n",
        "from sklearn.datasets import make_classification\n",
        "from sklearn.linear_model import LogisticRegression\n",
        "from sklearn.model_selection import train_test_split\n",
        "from sklearn.pipeline import make_pipeline\n",
        "from sklearn.preprocessing import StandardScaler\n",
        "from sklearn import preprocessing\n",
        "from sklearn.metrics import confusion_matrix\n",
        "import pandas as pd\n",
        "\n",
        "#from keras.utils import plot_model\n",
        "\n",
        "from tensorflow import keras\n",
        "from tensorflow.keras import optimizers\n",
        "from tensorflow.keras.optimizers import schedules\n",
        "import tensorflow as tf\n",
        "\n",
        "from tensorflow.keras import datasets, layers, models\n",
        "import matplotlib.pyplot as plt\n",
        "\n",
        "\n",
        "from keras.layers import Conv3D, MaxPool3D, Flatten, Dense\n",
        "from keras.layers import Dropout, Input, BatchNormalization\n",
        "from sklearn.metrics import confusion_matrix, accuracy_score\n",
        "from plotly.offline import iplot, init_notebook_mode\n",
        "from keras.losses import categorical_crossentropy\n",
        "#from keras.optimizers import Adadelta\n",
        "import plotly.graph_objs as go\n",
        "from matplotlib.pyplot import cm\n",
        "from keras.models import Model\n",
        "import numpy as np\n",
        "import keras\n",
        "import h5py\n",
        "\n",
        "init_notebook_mode(connected=True)\n",
        "%matplotlib inline\n",
        "\n",
        "\n",
        "\n",
        "from keras import backend as K\n",
        "from keras.datasets import mnist\n",
        "from keras.utils import np_utils"
      ],
      "id": "d3156400"
    },
    {
      "cell_type": "markdown",
      "metadata": {
        "id": "njRLOVWCtXO-"
      },
      "source": [
        "### Take two"
      ],
      "id": "njRLOVWCtXO-"
    },
    {
      "cell_type": "code",
      "execution_count": null,
      "metadata": {
        "id": "Ocg5AYpEtZG8"
      },
      "outputs": [],
      "source": [
        "#  -------------- links\n",
        "# https://towardsdatascience.com/step-by-step-implementation-3d-convolutional-neural-network-in-keras-12efbdd7b130\n",
        "# https://keras.io/examples/vision/3D_image_classification/\n",
        "\n",
        "# --------------- papers\n",
        "# https://arxiv.org/pdf/1808.01462.pdf"
      ],
      "id": "Ocg5AYpEtZG8"
    },
    {
      "cell_type": "code",
      "source": [
        ""
      ],
      "metadata": {
        "id": "ZouKORxe9mTQ"
      },
      "id": "ZouKORxe9mTQ",
      "execution_count": null,
      "outputs": []
    },
    {
      "cell_type": "code",
      "execution_count": 4,
      "metadata": {
        "id": "vYOnY6kEOyry"
      },
      "outputs": [],
      "source": [
        "############### PICKLE LOAD\n",
        "# downloaded = drive.CreateFile({'id':\"1uN7_MfJgCrEuRsqHI1dcjpnHy4G8tspY\"})   # replace the id with id of file you want to access\n",
        "# downloaded.GetContentFile('X_train_full_0_48.pkl')        # replace the file name with your file\n",
        "\n",
        "# downloaded = drive.CreateFile({'id':\"1-0GRPibrV1JLbXLLTa6hEvu1n4lAqcI4\"})   # replace the id with id of file you want to access\n",
        "# downloaded.GetContentFile('X_train_full_48_96.pkl')\n",
        "\n",
        "# downloaded = drive.CreateFile({'id':\"1-BB0hCi5X7I28zxcnW_ua5ehy-LuDUrG\"})   # replace the id with id of file you want to access\n",
        "# downloaded.GetContentFile('y_train_full.pkl') \n",
        "\n",
        "# downloaded = drive.CreateFile({'id':\"1-6QAfVuAYIo1-wgU_TCUd10TWbyMla7V\"})   # replace the id with id of file you want to access\n",
        "# downloaded.GetContentFile('X_test.pkl')\n",
        "\n",
        "# downloaded = drive.CreateFile({'id':\"1-A_dHpCuOHzEw3QQqMTatgvqv3kqE91a\"})   # replace the id with id of file you want to access\n",
        "# downloaded.GetContentFile('y_test.pkl') "
      ],
      "id": "vYOnY6kEOyry"
    },
    {
      "cell_type": "code",
      "execution_count": null,
      "metadata": {
        "colab": {
          "base_uri": "https://localhost:8080/"
        },
        "id": "mvdJCko5PzQN",
        "outputId": "8a6f49d3-6a53-416d-dd63-23d1b8748493"
      },
      "outputs": [
        {
          "data": {
            "text/plain": [
              "(96, 192, 192, 120, 1)"
            ]
          },
          "execution_count": 8,
          "metadata": {},
          "output_type": "execute_result"
        }
      ],
      "source": [
        "\n",
        "# X_train_full_0_48 = pickle.load(open('X_train_full_0_48.pkl','rb'))\n",
        "# X_train_full_48_96 = pickle.load(open('X_train_full_48_96.pkl','rb'))\n",
        "# X_train_full = np.concatenate((X_train_full_0_48, X_train_full_48_96), axis = 0)\n",
        "# np.shape(X_train_full)\n",
        "\n",
        "# y_train_full = pickle.load(open('y_train_full.pkl','rb'))\n",
        "# X_test = pickle.load(open('X_test.pkl','rb'))\n",
        "# y_test = pickle.load(open('y_test.pkl','rb'))\n"
      ],
      "id": "mvdJCko5PzQN"
    },
    {
      "cell_type": "code",
      "source": [
        "################### pickle load jan 19 2022\n",
        "downloaded = drive.CreateFile({'id':\"1tC9JvlD3stUy3mGP7aV16w7AIXn-xkET\"})   # replace the id with id of file you want to access\n",
        "downloaded.GetContentFile('cnm_X_train_full_0_72_jan19.pickle')        # replace the file name with your file\n",
        "\n",
        "downloaded = drive.CreateFile({'id':\"1gTCxSxVo7xGJHoAyD8DhJYhpI09Jd6rH\"})   # replace the id with id of file you want to access\n",
        "downloaded.GetContentFile('cnm_X_train_full_72_114_jan19.pickle')        # replace the file name with your file\n",
        "\n",
        "downloaded = drive.CreateFile({'id':\"1zIps48Uqq8lvBwHTuzcFdKZtcNCzQSpD\"})   # replace the id with id of file you want to access\n",
        "downloaded.GetContentFile('cnm_y_train_full_jan19.pickle')        # replace the file name with your file\n",
        "\n",
        "downloaded = drive.CreateFile({'id':\"11tcnJJh-inoR47NZhRYjaFYC2mOdWSW_\"})   # replace the id with id of file you want to access\n",
        "downloaded.GetContentFile('cnm_X_test_jan19.pickle')        # replace the file name with your file\n",
        "\n",
        "downloaded = drive.CreateFile({'id':\"1hhXebHubJuYFR45a39amHlNnXBFuZsWc\"})   # replace the id with id of file you want to access\n",
        "downloaded.GetContentFile('cnm_y_test_jan19.pickle')        # replace the file name with your file"
      ],
      "metadata": {
        "id": "R5PUt9Gh_n-T"
      },
      "id": "R5PUt9Gh_n-T",
      "execution_count": 3,
      "outputs": []
    },
    {
      "cell_type": "code",
      "source": [
        "X_train_full_0_72 = pickle.load(open('cnm_X_train_full_0_72_jan19.pickle','rb'))\n",
        "X_train_full_72_114 = pickle.load(open('cnm_X_train_full_72_114_jan19.pickle','rb'))\n",
        "X_train_full = np.concatenate((X_train_full_0_72, X_train_full_72_114), axis = 0)\n",
        "np.shape(X_train_full)\n",
        "\n",
        "y_train_full = pickle.load(open('cnm_y_train_full_jan19.pickle','rb'))\n",
        "X_test = pickle.load(open('cnm_X_test_jan19.pickle','rb'))\n",
        "y_test = pickle.load(open('cnm_y_test_jan19.pickle','rb'))"
      ],
      "metadata": {
        "colab": {
          "base_uri": "https://localhost:8080/"
        },
        "id": "jONABHyC_fDx",
        "outputId": "865f8dae-7fc7-4ea5-dd89-3d182d291e2d"
      },
      "id": "jONABHyC_fDx",
      "execution_count": 4,
      "outputs": [
        {
          "output_type": "execute_result",
          "data": {
            "text/plain": [
              "(114, 199, 154, 167, 1)"
            ]
          },
          "metadata": {},
          "execution_count": 4
        }
      ]
    },
    {
      "cell_type": "code",
      "execution_count": null,
      "metadata": {
        "id": "b5xDTszgkJac"
      },
      "outputs": [],
      "source": [
        "# %ls\n",
        "# %pwd\n",
        "# %cd "
      ],
      "id": "b5xDTszgkJac"
    },
    {
      "cell_type": "code",
      "execution_count": null,
      "metadata": {
        "colab": {
          "base_uri": "https://localhost:8080/"
        },
        "id": "WvFN0V03krmJ",
        "outputId": "f932a418-6143-4c54-abb6-34ffe279ae02"
      },
      "outputs": [
        {
          "name": "stdout",
          "output_type": "stream",
          "text": [
            "Mounted at /content/drive\n"
          ]
        }
      ],
      "source": [
        "from google.colab import drive\n",
        "drive.mount('/content/drive')\n",
        "\n",
        "# # 1. Authenticate and create the PyDrive client.\n",
        "# auth.authenticate_user()\n",
        "# gauth = GoogleAuth()\n",
        "# gauth.credentials = GoogleCredentials.get_application_default()\n",
        "# drive = GoogleDrive(gauth)  "
      ],
      "id": "WvFN0V03krmJ"
    },
    {
      "cell_type": "markdown",
      "metadata": {
        "id": "VWCqejcXOYbe"
      },
      "source": [
        "## attempt more complex models"
      ],
      "id": "VWCqejcXOYbe"
    },
    {
      "cell_type": "code",
      "execution_count": null,
      "metadata": {
        "id": "5xcq7fEoq1xx"
      },
      "outputs": [],
      "source": [
        "# from tensorflow.keras.applications import (\n",
        "#     vgg16,\n",
        "#     resnet50,\n",
        "#     mobilenet,\n",
        "#     inception_v3)\n",
        "\n",
        "# # init the models\n",
        "# vgg_model = vgg16.VGG16(weights='imagenet')\n",
        "# inception_model = inception_v3.InceptionV3(weights='imagenet')\n",
        "# resnet_model = resnet50.ResNet50(weights='imagenet')\n",
        "# mobilenet_model = mobilenet.MobileNet(weights='imagenet')"
      ],
      "id": "5xcq7fEoq1xx"
    },
    {
      "cell_type": "markdown",
      "metadata": {
        "id": "l5CDN9POBo35"
      },
      "source": [
        "# Resnet\n"
      ],
      "id": "l5CDN9POBo35"
    },
    {
      "cell_type": "code",
      "execution_count": null,
      "metadata": {
        "id": "QxxC_SckBp30"
      },
      "outputs": [],
      "source": [
        "import tensorflow as tf\n",
        "import matplotlib.pyplot as plt\n",
        "from tensorflow.keras import datasets, layers, models, losses, Model"
      ],
      "id": "QxxC_SckBp30"
    },
    {
      "cell_type": "markdown",
      "metadata": {
        "id": "W_BzlJqoIBNM"
      },
      "source": [
        "# vgg"
      ],
      "id": "W_BzlJqoIBNM"
    },
    {
      "cell_type": "code",
      "execution_count": 5,
      "metadata": {
        "id": "zujaKlns7YwP"
      },
      "outputs": [],
      "source": [
        "from tensorflow.keras.models import Sequential\n",
        "\n",
        "from tensorflow.keras import layers\n",
        "from tensorflow.keras import initializers\n",
        "initializer = tf.keras.initializers.RandomNormal(mean=0., stddev=1.)"
      ],
      "id": "zujaKlns7YwP"
    },
    {
      "cell_type": "code",
      "execution_count": 6,
      "metadata": {
        "colab": {
          "base_uri": "https://localhost:8080/"
        },
        "id": "p5RxK9mLgCUR",
        "outputId": "b9c86fab-2d94-47f4-cae9-7907bf5950fa"
      },
      "outputs": [
        {
          "output_type": "execute_result",
          "data": {
            "text/plain": [
              "(114, 199, 154, 167, 1)"
            ]
          },
          "metadata": {},
          "execution_count": 6
        }
      ],
      "source": [
        "np.shape(X_train_full)\n",
        "input_width = np.shape(X_train_full)[1]\n",
        "input_height = np.shape(X_train_full)[2]\n",
        "input_depth = np.shape(X_train_full)[3]\n"
      ],
      "id": "p5RxK9mLgCUR"
    },
    {
      "cell_type": "code",
      "execution_count": 7,
      "metadata": {
        "colab": {
          "base_uri": "https://localhost:8080/"
        },
        "id": "LlztiB6BIC8P",
        "outputId": "0de48564-c3ef-432a-dad7-c03c2ff06faf"
      },
      "outputs": [
        {
          "output_type": "stream",
          "name": "stdout",
          "text": [
            "Model: \"sequential\"\n",
            "_________________________________________________________________\n",
            " Layer (type)                Output Shape              Param #   \n",
            "=================================================================\n",
            " conv3d (Conv3D)             (None, 197, 152, 165, 16  448       \n",
            "                             )                                   \n",
            "                                                                 \n",
            " conv3d_1 (Conv3D)           (None, 195, 150, 163, 16  6928      \n",
            "                             )                                   \n",
            "                                                                 \n",
            " max_pooling3d (MaxPooling3D  (None, 97, 75, 81, 16)   0         \n",
            " )                                                               \n",
            "                                                                 \n",
            " conv3d_2 (Conv3D)           (None, 95, 73, 79, 16)    6928      \n",
            "                                                                 \n",
            " conv3d_3 (Conv3D)           (None, 93, 71, 77, 16)    6928      \n",
            "                                                                 \n",
            " max_pooling3d_1 (MaxPooling  (None, 46, 35, 38, 16)   0         \n",
            " 3D)                                                             \n",
            "                                                                 \n",
            " conv3d_4 (Conv3D)           (None, 44, 33, 36, 8)     3464      \n",
            "                                                                 \n",
            " conv3d_5 (Conv3D)           (None, 42, 31, 34, 8)     1736      \n",
            "                                                                 \n",
            " max_pooling3d_2 (MaxPooling  (None, 21, 15, 17, 8)    0         \n",
            " 3D)                                                             \n",
            "                                                                 \n",
            " conv3d_6 (Conv3D)           (None, 19, 13, 15, 4)     868       \n",
            "                                                                 \n",
            " conv3d_7 (Conv3D)           (None, 17, 11, 13, 4)     436       \n",
            "                                                                 \n",
            " max_pooling3d_3 (MaxPooling  (None, 8, 5, 6, 4)       0         \n",
            " 3D)                                                             \n",
            "                                                                 \n",
            " flatten (Flatten)           (None, 960)               0         \n",
            "                                                                 \n",
            " dense (Dense)               (None, 16)                15376     \n",
            "                                                                 \n",
            " dense_1 (Dense)             (None, 8)                 136       \n",
            "                                                                 \n",
            " dense_2 (Dense)             (None, 1)                 9         \n",
            "                                                                 \n",
            "=================================================================\n",
            "Total params: 43,257\n",
            "Trainable params: 43,257\n",
            "Non-trainable params: 0\n",
            "_________________________________________________________________\n"
          ]
        }
      ],
      "source": [
        "model_vgg_ab = Sequential()\n",
        "model_vgg_ab.add(layers.Conv3D(16, (3,3,3),activation='relu', \n",
        "                                kernel_initializer='random_normal',\n",
        "                        input_shape=(input_width, input_height, input_depth, 1)))\n",
        "model_vgg_ab.add(layers.Conv3D(16, (3,3,3), activation='relu'))\n",
        "model_vgg_ab.add(layers.MaxPooling3D((2,2,2)))\n",
        "# model_vgg_ab.add(layers.Conv3D(128, (3, 3, 3), activation='relu'))\n",
        "# model_vgg_ab.add(layers.Conv3D(128, (3, 3, 3), activation='relu'))\n",
        "# model_vgg_ab.add(layers.MaxPooling3D((2, 2, 2)))\n",
        "# model_vgg_ab.add(layers.Conv3D(32, (3, 3, 3), activation='relu'))\n",
        "# model_vgg_ab.add(layers.Conv3D(32, (3, 3, 3), activation='relu'))\n",
        "# model_vgg_ab.add(layers.MaxPooling3D((2, 2, 2)))\n",
        "# model_vgg_ab.add(layers.Conv3D(512, (3, 3, 3), activation='relu'))\n",
        "# model_vgg_ab.add(layers.Conv3D(512, (3, 3, 3), activation='relu'))\n",
        "# model_vgg_ab.add(layers.MaxPooling3D((2, 2, 2)))\n",
        "#model_vgg_ab.add(layers.Conv3D(512, (3, 3, 3), activation='relu'))\n",
        "#model_vgg_ab.add(layers.Conv3D(512, (3, 3, 3), activation='relu'))\n",
        "# model_vgg_ab.add(layers.MaxPooling3D((2, 2, 2)))\n",
        "model_vgg_ab.add(layers.Conv3D(16, (3,3,3), activation='relu'))\n",
        "model_vgg_ab.add(layers.Conv3D(16, (3,3,3), activation='relu'))\n",
        "model_vgg_ab.add(layers.MaxPooling3D((2, 2, 2)))\n",
        "model_vgg_ab.add(layers.Conv3D(8, (3,3,3), activation='relu'))\n",
        "model_vgg_ab.add(layers.Conv3D(8, (3,3,3), activation='relu'))\n",
        "model_vgg_ab.add(layers.MaxPooling3D((2,2,2)))\n",
        "model_vgg_ab.add(layers.Conv3D(4, (3,3,3), activation='relu'))\n",
        "model_vgg_ab.add(layers.Conv3D(4, (3,3,3), activation='relu'))\n",
        "model_vgg_ab.add(layers.MaxPooling3D((2,2,2)))\n",
        "model_vgg_ab.add(layers.Flatten())\n",
        "model_vgg_ab.add(layers.Dense(16, activation='softmax', kernel_initializer=initializer))\n",
        "#model_vgg_ab.add(layers.Dense(64, kernel_initializer=initializer))\n",
        "#model_vgg_ab.add(layers.Dense(32, kernel_initializer=initializer))\n",
        "model_vgg_ab.add(layers.Dense(8, kernel_initializer=initializer))\n",
        "model_vgg_ab.add(layers.Dense(1, activation = 'sigmoid'))\n",
        "model_vgg_ab.summary()"
      ],
      "id": "LlztiB6BIC8P"
    },
    {
      "cell_type": "code",
      "execution_count": 8,
      "metadata": {
        "colab": {
          "base_uri": "https://localhost:8080/"
        },
        "id": "i_DZZA-gH0bb",
        "outputId": "5dbd2ee5-340e-4a69-ea65-ca1b9ff0d1dc"
      },
      "outputs": [
        {
          "output_type": "execute_result",
          "data": {
            "text/plain": [
              "(114, 199, 154, 167, 1)"
            ]
          },
          "metadata": {},
          "execution_count": 8
        }
      ],
      "source": [
        "np.shape(X_train_full)"
      ],
      "id": "i_DZZA-gH0bb"
    },
    {
      "cell_type": "code",
      "execution_count": 9,
      "metadata": {
        "id": "Kt28jNcFKYbk"
      },
      "outputs": [],
      "source": [
        "my_batch_size= 5"
      ],
      "id": "Kt28jNcFKYbk"
    },
    {
      "cell_type": "code",
      "execution_count": 10,
      "metadata": {
        "id": "5VF8s8pxJ6Dp"
      },
      "outputs": [],
      "source": [
        "model_vgg_ab.compile(optimizer=Adam(0.001),loss='binary_crossentropy', metrics=['acc'])"
      ],
      "id": "5VF8s8pxJ6Dp"
    },
    {
      "cell_type": "code",
      "execution_count": 11,
      "metadata": {
        "colab": {
          "base_uri": "https://localhost:8080/"
        },
        "id": "tDcKFQ9ZKwLe",
        "outputId": "e75dd6d8-1e9d-4979-b58d-a586d9abea7c"
      },
      "outputs": [
        {
          "output_type": "stream",
          "name": "stdout",
          "text": [
            "Epoch 1/40\n",
            "16/16 [==============================] - 25s 1s/step - loss: 0.6996 - acc: 0.4684 - val_loss: 0.6927 - val_acc: 0.5714\n",
            "Epoch 2/40\n",
            "16/16 [==============================] - 11s 661ms/step - loss: 0.6924 - acc: 0.5316 - val_loss: 0.6906 - val_acc: 0.5714\n",
            "Epoch 3/40\n",
            "16/16 [==============================] - 11s 661ms/step - loss: 0.6920 - acc: 0.5316 - val_loss: 0.6886 - val_acc: 0.5714\n",
            "Epoch 4/40\n",
            "16/16 [==============================] - 11s 661ms/step - loss: 0.6916 - acc: 0.5316 - val_loss: 0.6874 - val_acc: 0.5714\n",
            "Epoch 5/40\n",
            "16/16 [==============================] - 11s 662ms/step - loss: 0.6953 - acc: 0.5316 - val_loss: 0.6855 - val_acc: 0.5714\n",
            "Epoch 6/40\n",
            "16/16 [==============================] - 11s 663ms/step - loss: 0.6919 - acc: 0.5316 - val_loss: 0.6884 - val_acc: 0.5714\n",
            "Epoch 7/40\n",
            "16/16 [==============================] - 11s 664ms/step - loss: 0.6917 - acc: 0.5316 - val_loss: 0.6890 - val_acc: 0.5714\n",
            "Epoch 8/40\n",
            "16/16 [==============================] - 11s 665ms/step - loss: 0.6918 - acc: 0.5316 - val_loss: 0.6875 - val_acc: 0.5714\n",
            "Epoch 9/40\n",
            "16/16 [==============================] - 11s 662ms/step - loss: 0.6920 - acc: 0.5316 - val_loss: 0.6864 - val_acc: 0.5714\n",
            "Epoch 10/40\n",
            "16/16 [==============================] - 11s 663ms/step - loss: 0.6919 - acc: 0.5316 - val_loss: 0.6861 - val_acc: 0.5714\n",
            "Epoch 11/40\n",
            "16/16 [==============================] - 11s 662ms/step - loss: 0.6930 - acc: 0.5316 - val_loss: 0.6879 - val_acc: 0.5714\n",
            "Epoch 12/40\n",
            "16/16 [==============================] - 11s 662ms/step - loss: 0.6914 - acc: 0.5316 - val_loss: 0.6874 - val_acc: 0.5714\n",
            "Epoch 13/40\n",
            "16/16 [==============================] - 11s 661ms/step - loss: 0.6915 - acc: 0.5316 - val_loss: 0.6869 - val_acc: 0.5714\n",
            "Epoch 14/40\n",
            "16/16 [==============================] - 11s 660ms/step - loss: 0.6919 - acc: 0.5316 - val_loss: 0.6863 - val_acc: 0.5714\n",
            "Epoch 15/40\n",
            "16/16 [==============================] - 11s 660ms/step - loss: 0.6917 - acc: 0.5316 - val_loss: 0.6859 - val_acc: 0.5714\n",
            "Epoch 16/40\n",
            "16/16 [==============================] - 11s 661ms/step - loss: 0.6919 - acc: 0.5316 - val_loss: 0.6866 - val_acc: 0.5714\n",
            "Epoch 17/40\n",
            "16/16 [==============================] - 11s 665ms/step - loss: 0.6916 - acc: 0.5316 - val_loss: 0.6863 - val_acc: 0.5714\n",
            "Epoch 18/40\n",
            "16/16 [==============================] - 11s 661ms/step - loss: 0.6916 - acc: 0.5316 - val_loss: 0.6869 - val_acc: 0.5714\n",
            "Epoch 19/40\n",
            "16/16 [==============================] - 11s 662ms/step - loss: 0.6913 - acc: 0.5316 - val_loss: 0.6864 - val_acc: 0.5714\n",
            "Epoch 20/40\n",
            "16/16 [==============================] - 11s 662ms/step - loss: 0.6920 - acc: 0.5316 - val_loss: 0.6864 - val_acc: 0.5714\n",
            "Epoch 21/40\n",
            "16/16 [==============================] - 11s 663ms/step - loss: 0.6920 - acc: 0.5316 - val_loss: 0.6871 - val_acc: 0.5714\n",
            "Epoch 22/40\n",
            "16/16 [==============================] - 11s 661ms/step - loss: 0.6915 - acc: 0.5316 - val_loss: 0.6870 - val_acc: 0.5714\n",
            "Epoch 23/40\n",
            "16/16 [==============================] - 11s 662ms/step - loss: 0.6919 - acc: 0.5316 - val_loss: 0.6855 - val_acc: 0.5714\n",
            "Epoch 24/40\n",
            "16/16 [==============================] - 11s 662ms/step - loss: 0.6915 - acc: 0.5316 - val_loss: 0.6861 - val_acc: 0.5714\n",
            "Epoch 25/40\n",
            "16/16 [==============================] - 11s 662ms/step - loss: 0.6921 - acc: 0.5316 - val_loss: 0.6860 - val_acc: 0.5714\n",
            "Epoch 26/40\n",
            "16/16 [==============================] - 11s 663ms/step - loss: 0.6926 - acc: 0.5316 - val_loss: 0.6868 - val_acc: 0.5714\n",
            "Epoch 27/40\n",
            "16/16 [==============================] - 11s 662ms/step - loss: 0.6915 - acc: 0.5316 - val_loss: 0.6865 - val_acc: 0.5714\n",
            "Epoch 28/40\n",
            "16/16 [==============================] - 11s 661ms/step - loss: 0.6917 - acc: 0.5316 - val_loss: 0.6855 - val_acc: 0.5714\n",
            "Epoch 29/40\n",
            "16/16 [==============================] - 11s 664ms/step - loss: 0.6917 - acc: 0.5316 - val_loss: 0.6857 - val_acc: 0.5714\n",
            "Epoch 30/40\n",
            "16/16 [==============================] - 11s 661ms/step - loss: 0.6914 - acc: 0.5316 - val_loss: 0.6858 - val_acc: 0.5714\n",
            "Epoch 31/40\n",
            "16/16 [==============================] - 11s 663ms/step - loss: 0.6921 - acc: 0.5316 - val_loss: 0.6855 - val_acc: 0.5714\n",
            "Epoch 32/40\n",
            "16/16 [==============================] - 11s 662ms/step - loss: 0.6916 - acc: 0.5316 - val_loss: 0.6860 - val_acc: 0.5714\n",
            "Epoch 33/40\n",
            "16/16 [==============================] - 11s 661ms/step - loss: 0.6915 - acc: 0.5316 - val_loss: 0.6862 - val_acc: 0.5714\n",
            "Epoch 34/40\n",
            "16/16 [==============================] - 11s 662ms/step - loss: 0.6914 - acc: 0.5316 - val_loss: 0.6864 - val_acc: 0.5714\n",
            "Epoch 35/40\n",
            "16/16 [==============================] - 11s 663ms/step - loss: 0.6914 - acc: 0.5316 - val_loss: 0.6859 - val_acc: 0.5714\n",
            "Epoch 36/40\n",
            "16/16 [==============================] - 11s 662ms/step - loss: 0.6919 - acc: 0.5316 - val_loss: 0.6860 - val_acc: 0.5714\n",
            "Epoch 37/40\n",
            "16/16 [==============================] - 11s 661ms/step - loss: 0.6913 - acc: 0.5316 - val_loss: 0.6862 - val_acc: 0.5714\n",
            "Epoch 38/40\n",
            "16/16 [==============================] - 11s 662ms/step - loss: 0.6914 - acc: 0.5316 - val_loss: 0.6864 - val_acc: 0.5714\n",
            "Epoch 39/40\n",
            "16/16 [==============================] - 11s 662ms/step - loss: 0.6915 - acc: 0.5316 - val_loss: 0.6859 - val_acc: 0.5714\n",
            "Epoch 40/40\n",
            "16/16 [==============================] - 11s 662ms/step - loss: 0.6921 - acc: 0.5316 - val_loss: 0.6863 - val_acc: 0.5714\n"
          ]
        }
      ],
      "source": [
        "history = model_vgg_ab.fit(\n",
        "    x=X_train_full, \n",
        "    y=y_train_full,\n",
        "    epochs=40,  \n",
        "    batch_size=my_batch_size, \n",
        "    validation_split=0.3)"
      ],
      "id": "tDcKFQ9ZKwLe"
    },
    {
      "cell_type": "code",
      "source": [
        "history.history"
      ],
      "metadata": {
        "colab": {
          "base_uri": "https://localhost:8080/"
        },
        "id": "CI6itLWHSiQx",
        "outputId": "2de3bf03-62bc-4257-82b5-fc3a1d013f24"
      },
      "id": "CI6itLWHSiQx",
      "execution_count": 12,
      "outputs": [
        {
          "output_type": "execute_result",
          "data": {
            "text/plain": [
              "{'acc': [0.4683544337749481,\n",
              "  0.5316455960273743,\n",
              "  0.5316455960273743,\n",
              "  0.5316455960273743,\n",
              "  0.5316455960273743,\n",
              "  0.5316455960273743,\n",
              "  0.5316455960273743,\n",
              "  0.5316455960273743,\n",
              "  0.5316455960273743,\n",
              "  0.5316455960273743,\n",
              "  0.5316455960273743,\n",
              "  0.5316455960273743,\n",
              "  0.5316455960273743,\n",
              "  0.5316455960273743,\n",
              "  0.5316455960273743,\n",
              "  0.5316455960273743,\n",
              "  0.5316455960273743,\n",
              "  0.5316455960273743,\n",
              "  0.5316455960273743,\n",
              "  0.5316455960273743,\n",
              "  0.5316455960273743,\n",
              "  0.5316455960273743,\n",
              "  0.5316455960273743,\n",
              "  0.5316455960273743,\n",
              "  0.5316455960273743,\n",
              "  0.5316455960273743,\n",
              "  0.5316455960273743,\n",
              "  0.5316455960273743,\n",
              "  0.5316455960273743,\n",
              "  0.5316455960273743,\n",
              "  0.5316455960273743,\n",
              "  0.5316455960273743,\n",
              "  0.5316455960273743,\n",
              "  0.5316455960273743,\n",
              "  0.5316455960273743,\n",
              "  0.5316455960273743,\n",
              "  0.5316455960273743,\n",
              "  0.5316455960273743,\n",
              "  0.5316455960273743,\n",
              "  0.5316455960273743],\n",
              " 'loss': [0.6995985507965088,\n",
              "  0.6924159526824951,\n",
              "  0.6919906139373779,\n",
              "  0.691643238067627,\n",
              "  0.6953051686286926,\n",
              "  0.6918870210647583,\n",
              "  0.6916635036468506,\n",
              "  0.6917538046836853,\n",
              "  0.6919512152671814,\n",
              "  0.691916823387146,\n",
              "  0.6929500699043274,\n",
              "  0.6913936138153076,\n",
              "  0.6914631128311157,\n",
              "  0.6918662190437317,\n",
              "  0.691731870174408,\n",
              "  0.6918519139289856,\n",
              "  0.6915576457977295,\n",
              "  0.6916354894638062,\n",
              "  0.6913453340530396,\n",
              "  0.6919947862625122,\n",
              "  0.692017674446106,\n",
              "  0.6915444135665894,\n",
              "  0.6918702125549316,\n",
              "  0.691451907157898,\n",
              "  0.6920848488807678,\n",
              "  0.6925655007362366,\n",
              "  0.6914657950401306,\n",
              "  0.6916559338569641,\n",
              "  0.691665768623352,\n",
              "  0.6913577318191528,\n",
              "  0.6921443939208984,\n",
              "  0.6916417479515076,\n",
              "  0.6915004849433899,\n",
              "  0.6913807392120361,\n",
              "  0.691403329372406,\n",
              "  0.6919224262237549,\n",
              "  0.6913058161735535,\n",
              "  0.6913509964942932,\n",
              "  0.6915467381477356,\n",
              "  0.6920611262321472],\n",
              " 'val_acc': [0.5714285969734192,\n",
              "  0.5714285969734192,\n",
              "  0.5714285969734192,\n",
              "  0.5714285969734192,\n",
              "  0.5714285969734192,\n",
              "  0.5714285969734192,\n",
              "  0.5714285969734192,\n",
              "  0.5714285969734192,\n",
              "  0.5714285969734192,\n",
              "  0.5714285969734192,\n",
              "  0.5714285969734192,\n",
              "  0.5714285969734192,\n",
              "  0.5714285969734192,\n",
              "  0.5714285969734192,\n",
              "  0.5714285969734192,\n",
              "  0.5714285969734192,\n",
              "  0.5714285969734192,\n",
              "  0.5714285969734192,\n",
              "  0.5714285969734192,\n",
              "  0.5714285969734192,\n",
              "  0.5714285969734192,\n",
              "  0.5714285969734192,\n",
              "  0.5714285969734192,\n",
              "  0.5714285969734192,\n",
              "  0.5714285969734192,\n",
              "  0.5714285969734192,\n",
              "  0.5714285969734192,\n",
              "  0.5714285969734192,\n",
              "  0.5714285969734192,\n",
              "  0.5714285969734192,\n",
              "  0.5714285969734192,\n",
              "  0.5714285969734192,\n",
              "  0.5714285969734192,\n",
              "  0.5714285969734192,\n",
              "  0.5714285969734192,\n",
              "  0.5714285969734192,\n",
              "  0.5714285969734192,\n",
              "  0.5714285969734192,\n",
              "  0.5714285969734192,\n",
              "  0.5714285969734192],\n",
              " 'val_loss': [0.6926698088645935,\n",
              "  0.6906356811523438,\n",
              "  0.6885529160499573,\n",
              "  0.6874195337295532,\n",
              "  0.6854934692382812,\n",
              "  0.6883759498596191,\n",
              "  0.6890445351600647,\n",
              "  0.6875319480895996,\n",
              "  0.6863654255867004,\n",
              "  0.6861242055892944,\n",
              "  0.6878597736358643,\n",
              "  0.6874016523361206,\n",
              "  0.6868749856948853,\n",
              "  0.6863169074058533,\n",
              "  0.6859386563301086,\n",
              "  0.6866010427474976,\n",
              "  0.6863290667533875,\n",
              "  0.6868950128555298,\n",
              "  0.6864496469497681,\n",
              "  0.6864009499549866,\n",
              "  0.687138557434082,\n",
              "  0.6869651675224304,\n",
              "  0.6854801177978516,\n",
              "  0.6861370205879211,\n",
              "  0.6860441565513611,\n",
              "  0.6868353486061096,\n",
              "  0.6864639520645142,\n",
              "  0.6855417490005493,\n",
              "  0.6857433915138245,\n",
              "  0.6857773661613464,\n",
              "  0.6855291724205017,\n",
              "  0.6859516501426697,\n",
              "  0.6862332224845886,\n",
              "  0.6864080429077148,\n",
              "  0.6859381794929504,\n",
              "  0.6859537959098816,\n",
              "  0.686204731464386,\n",
              "  0.6863892674446106,\n",
              "  0.6859057545661926,\n",
              "  0.6863482594490051]}"
            ]
          },
          "metadata": {},
          "execution_count": 12
        }
      ]
    },
    {
      "cell_type": "code",
      "source": [
        "pd. DataFrame(list(history.history.items())).to_excel('history_epoch40.xlsx')"
      ],
      "metadata": {
        "id": "5OUEcly0cylU"
      },
      "id": "5OUEcly0cylU",
      "execution_count": 14,
      "outputs": []
    },
    {
      "cell_type": "code",
      "source": [
        "\n",
        "#history = results\n",
        "# summarize history for accuracy\n",
        "plt.plot(history.history['acc'])\n",
        "plt.plot(history.history['val_acc'])\n",
        "plt.title('model accuracy')\n",
        "plt.ylabel('accuracy')\n",
        "plt.xlabel('epoch')\n",
        "plt.legend(['train', 'test'], loc='upper left')\n",
        "plt.show()\n",
        "# summarize history for loss\n",
        "plt.plot(history.history['loss'])\n",
        "plt.plot(history.history['val_loss'])\n",
        "plt.title('model loss')\n",
        "plt.ylabel('loss')\n",
        "plt.xlabel('epoch')\n",
        "plt.legend(['train', 'test'], loc='upper left')\n",
        "plt.show()"
      ],
      "metadata": {
        "colab": {
          "base_uri": "https://localhost:8080/",
          "height": 608
        },
        "id": "Mzx7hWuZPqx0",
        "outputId": "8e2c26f2-b8c8-4017-9942-f29fde5a3168"
      },
      "id": "Mzx7hWuZPqx0",
      "execution_count": 13,
      "outputs": [
        {
          "output_type": "execute_result",
          "data": {
            "text/plain": [
              "[<matplotlib.lines.Line2D at 0x7f86a01d6d10>]"
            ]
          },
          "metadata": {},
          "execution_count": 13
        },
        {
          "output_type": "execute_result",
          "data": {
            "text/plain": [
              "[<matplotlib.lines.Line2D at 0x7f86a01e5490>]"
            ]
          },
          "metadata": {},
          "execution_count": 13
        },
        {
          "output_type": "execute_result",
          "data": {
            "text/plain": [
              "Text(0.5, 1.0, 'model accuracy')"
            ]
          },
          "metadata": {},
          "execution_count": 13
        },
        {
          "output_type": "execute_result",
          "data": {
            "text/plain": [
              "Text(0, 0.5, 'accuracy')"
            ]
          },
          "metadata": {},
          "execution_count": 13
        },
        {
          "output_type": "execute_result",
          "data": {
            "text/plain": [
              "Text(0.5, 0, 'epoch')"
            ]
          },
          "metadata": {},
          "execution_count": 13
        },
        {
          "output_type": "execute_result",
          "data": {
            "text/plain": [
              "<matplotlib.legend.Legend at 0x7f86a01e58d0>"
            ]
          },
          "metadata": {},
          "execution_count": 13
        },
        {
          "output_type": "display_data",
          "data": {
            "image/png": "[encoded data removed]",
            "text/plain": [
              "<Figure size 432x288 with 1 Axes>"
            ]
          },
          "metadata": {
            "needs_background": "light"
          }
        },
        {
          "output_type": "execute_result",
          "data": {
            "text/plain": [
              "[<matplotlib.lines.Line2D at 0x7f86a0120750>]"
            ]
          },
          "metadata": {},
          "execution_count": 13
        },
        {
          "output_type": "execute_result",
          "data": {
            "text/plain": [
              "[<matplotlib.lines.Line2D at 0x7f86a0120e90>]"
            ]
          },
          "metadata": {},
          "execution_count": 13
        },
        {
          "output_type": "execute_result",
          "data": {
            "text/plain": [
              "Text(0.5, 1.0, 'model loss')"
            ]
          },
          "metadata": {},
          "execution_count": 13
        },
        {
          "output_type": "execute_result",
          "data": {
            "text/plain": [
              "Text(0, 0.5, 'loss')"
            ]
          },
          "metadata": {},
          "execution_count": 13
        },
        {
          "output_type": "execute_result",
          "data": {
            "text/plain": [
              "Text(0.5, 0, 'epoch')"
            ]
          },
          "metadata": {},
          "execution_count": 13
        },
        {
          "output_type": "execute_result",
          "data": {
            "text/plain": [
              "<matplotlib.legend.Legend at 0x7f86a0120bd0>"
            ]
          },
          "metadata": {},
          "execution_count": 13
        },
        {
          "output_type": "display_data",
          "data": {
            "image/png": "[encoded data removed]",
            "text/plain": [
              "<Figure size 432x288 with 1 Axes>"
            ]
          },
          "metadata": {
            "needs_background": "light"
          }
        }
      ]
    },
    {
      "cell_type": "code",
      "source": [
        "import numpy as np \n",
        "from tensorflow import keras\n",
        "from matplotlib import pyplot as plt\n",
        "from IPython.display import clear_output\n",
        "\n",
        "class PlotLearning(keras.callbacks.Callback):\n",
        "    \"\"\"\n",
        "    Callback to plot the learning curves of the model during training.\n",
        "    \"\"\"\n",
        "    def on_train_begin(self, logs={}):\n",
        "        self.metrics = {}\n",
        "        for metric in logs:\n",
        "            self.metrics[metric] = []\n",
        "            \n",
        "\n",
        "    def on_epoch_end(self, epoch, logs={}):\n",
        "        # Storing metrics\n",
        "        for metric in logs:\n",
        "            if metric in self.metrics:\n",
        "                self.metrics[metric].append(logs.get(metric))\n",
        "            else:\n",
        "                self.metrics[metric] = [logs.get(metric)]\n",
        "        \n",
        "        # Plotting\n",
        "        metrics = [x for x in logs if 'val' not in x]\n",
        "        \n",
        "        f, axs = plt.subplots(1, len(metrics), figsize=(15,5))\n",
        "        clear_output(wait=True)\n",
        "\n",
        "        for i, metric in enumerate(metrics):\n",
        "            axs[i].plot(range(1, epoch + 2), \n",
        "                        self.metrics[metric], \n",
        "                        label=metric)\n",
        "            if logs['val_' + metric]:\n",
        "                axs[i].plot(range(1, epoch + 2), \n",
        "                            self.metrics['val_' + metric], \n",
        "                            label='val_' + metric)\n",
        "                \n",
        "            axs[i].legend()\n",
        "            axs[i].grid()\n",
        "\n",
        "        plt.tight_layout()\n",
        "        plt.show()"
      ],
      "metadata": {
        "id": "_Arnpa4i_-ca"
      },
      "id": "_Arnpa4i_-ca",
      "execution_count": 17,
      "outputs": []
    },
    {
      "cell_type": "code",
      "source": [
        "callbacks_list = [PlotLearning()]\n",
        "\n",
        "\n",
        "model_vgg_ab.fit(\n",
        "    x=X_train_full, \n",
        "    y=y_train_full,\n",
        "    epochs=20,  \n",
        "    batch_size=my_batch_size, \n",
        "    validation_split=0.3,\n",
        "    callbacks=callbacks_list)\n",
        "\n",
        "# model.fit(x_train,\n",
        "#           y_train,\n",
        "#           epochs = nb_epochs,\n",
        "#           batch_size = batch_size,\n",
        "#           validation_data=(x_test, y_test),\n",
        "#           verbose=1,\n",
        "#           shuffle=True,\n",
        "#           class_weight=class_weight,\n",
        "          \n",
        "#           )"
      ],
      "metadata": {
        "colab": {
          "base_uri": "https://localhost:8080/",
          "height": 1000
        },
        "id": "FcBfqIC2PNgi",
        "outputId": "2bf6f4ba-ba1c-4f42-81ac-00401e858231"
      },
      "id": "FcBfqIC2PNgi",
      "execution_count": 18,
      "outputs": [
        {
          "output_type": "stream",
          "name": "stdout",
          "text": [
            "Epoch 1/20\n"
          ]
        },
        {
          "output_type": "error",
          "ename": "ResourceExhaustedError",
          "evalue": "ignored",
          "traceback": [
            "\u001b[0;31m---------------------------------------------------------------------------\u001b[0m",
            "\u001b[0;31mResourceExhaustedError\u001b[0m                    Traceback (most recent call last)",
            "\u001b[0;32m<ipython-input-18-d95dbe86c2aa>\u001b[0m in \u001b[0;36m<module>\u001b[0;34m()\u001b[0m\n\u001b[1;32m      8\u001b[0m     \u001b[0mbatch_size\u001b[0m\u001b[0;34m=\u001b[0m\u001b[0mmy_batch_size\u001b[0m\u001b[0;34m,\u001b[0m\u001b[0;34m\u001b[0m\u001b[0;34m\u001b[0m\u001b[0m\n\u001b[1;32m      9\u001b[0m     \u001b[0mvalidation_split\u001b[0m\u001b[0;34m=\u001b[0m\u001b[0;36m0.3\u001b[0m\u001b[0;34m,\u001b[0m\u001b[0;34m\u001b[0m\u001b[0;34m\u001b[0m\u001b[0m\n\u001b[0;32m---> 10\u001b[0;31m     callbacks=callbacks_list)\n\u001b[0m\u001b[1;32m     11\u001b[0m \u001b[0;34m\u001b[0m\u001b[0m\n\u001b[1;32m     12\u001b[0m \u001b[0;31m# model.fit(x_train,\u001b[0m\u001b[0;34m\u001b[0m\u001b[0;34m\u001b[0m\u001b[0;34m\u001b[0m\u001b[0m\n",
            "\u001b[0;32m/usr/local/lib/python3.7/dist-packages/keras/utils/traceback_utils.py\u001b[0m in \u001b[0;36merror_handler\u001b[0;34m(*args, **kwargs)\u001b[0m\n\u001b[1;32m     65\u001b[0m     \u001b[0;32mexcept\u001b[0m \u001b[0mException\u001b[0m \u001b[0;32mas\u001b[0m \u001b[0me\u001b[0m\u001b[0;34m:\u001b[0m  \u001b[0;31m# pylint: disable=broad-except\u001b[0m\u001b[0;34m\u001b[0m\u001b[0;34m\u001b[0m\u001b[0m\n\u001b[1;32m     66\u001b[0m       \u001b[0mfiltered_tb\u001b[0m \u001b[0;34m=\u001b[0m \u001b[0m_process_traceback_frames\u001b[0m\u001b[0;34m(\u001b[0m\u001b[0me\u001b[0m\u001b[0;34m.\u001b[0m\u001b[0m__traceback__\u001b[0m\u001b[0;34m)\u001b[0m\u001b[0;34m\u001b[0m\u001b[0;34m\u001b[0m\u001b[0m\n\u001b[0;32m---> 67\u001b[0;31m       \u001b[0;32mraise\u001b[0m \u001b[0me\u001b[0m\u001b[0;34m.\u001b[0m\u001b[0mwith_traceback\u001b[0m\u001b[0;34m(\u001b[0m\u001b[0mfiltered_tb\u001b[0m\u001b[0;34m)\u001b[0m \u001b[0;32mfrom\u001b[0m \u001b[0;32mNone\u001b[0m\u001b[0;34m\u001b[0m\u001b[0;34m\u001b[0m\u001b[0m\n\u001b[0m\u001b[1;32m     68\u001b[0m     \u001b[0;32mfinally\u001b[0m\u001b[0;34m:\u001b[0m\u001b[0;34m\u001b[0m\u001b[0;34m\u001b[0m\u001b[0m\n\u001b[1;32m     69\u001b[0m       \u001b[0;32mdel\u001b[0m \u001b[0mfiltered_tb\u001b[0m\u001b[0;34m\u001b[0m\u001b[0;34m\u001b[0m\u001b[0m\n",
            "\u001b[0;32m/usr/local/lib/python3.7/dist-packages/tensorflow/python/eager/execute.py\u001b[0m in \u001b[0;36mquick_execute\u001b[0;34m(op_name, num_outputs, inputs, attrs, ctx, name)\u001b[0m\n\u001b[1;32m     57\u001b[0m     \u001b[0mctx\u001b[0m\u001b[0;34m.\u001b[0m\u001b[0mensure_initialized\u001b[0m\u001b[0;34m(\u001b[0m\u001b[0;34m)\u001b[0m\u001b[0;34m\u001b[0m\u001b[0;34m\u001b[0m\u001b[0m\n\u001b[1;32m     58\u001b[0m     tensors = pywrap_tfe.TFE_Py_Execute(ctx._handle, device_name, op_name,\n\u001b[0;32m---> 59\u001b[0;31m                                         inputs, attrs, num_outputs)\n\u001b[0m\u001b[1;32m     60\u001b[0m   \u001b[0;32mexcept\u001b[0m \u001b[0mcore\u001b[0m\u001b[0;34m.\u001b[0m\u001b[0m_NotOkStatusException\u001b[0m \u001b[0;32mas\u001b[0m \u001b[0me\u001b[0m\u001b[0;34m:\u001b[0m\u001b[0;34m\u001b[0m\u001b[0;34m\u001b[0m\u001b[0m\n\u001b[1;32m     61\u001b[0m     \u001b[0;32mif\u001b[0m \u001b[0mname\u001b[0m \u001b[0;32mis\u001b[0m \u001b[0;32mnot\u001b[0m \u001b[0;32mNone\u001b[0m\u001b[0;34m:\u001b[0m\u001b[0;34m\u001b[0m\u001b[0;34m\u001b[0m\u001b[0m\n",
            "\u001b[0;31mResourceExhaustedError\u001b[0m:  OOM when allocating tensor with shape[5,16,195,150,163] and type float on /job:localhost/replica:0/task:0/device:GPU:0 by allocator GPU_0_bfc\n\t [[node gradient_tape/sequential_1/max_pooling3d/MaxPool3D/MaxPool3DGrad\n (defined at /usr/local/lib/python3.7/dist-packages/keras/optimizer_v2/optimizer_v2.py:464)\n]]\nHint: If you want to see a list of allocated tensors when OOM happens, add report_tensor_allocations_upon_oom to RunOptions for current allocation info. This isn't available when running in Eager mode.\n [Op:__inference_train_function_1570]\n\nErrors may have originated from an input operation.\nInput Source operations connected to node gradient_tape/sequential_1/max_pooling3d/MaxPool3D/MaxPool3DGrad:\nIn[0] sequential_1/conv3d_1/Relu (defined at /usr/local/lib/python3.7/dist-packages/keras/backend.py:4867)\t\nIn[1] sequential_1/max_pooling3d/MaxPool3D (defined at /usr/local/lib/python3.7/dist-packages/keras/layers/pooling.py:703)\t\nIn[2] gradient_tape/sequential_1/conv3d_2/Conv3D/Conv3DBackpropInputV2:\n\nOperation defined at: (most recent call last)\n>>>   File \"/usr/lib/python3.7/runpy.py\", line 193, in _run_module_as_main\n>>>     \"__main__\", mod_spec)\n>>> \n>>>   File \"/usr/lib/python3.7/runpy.py\", line 85, in _run_code\n>>>     exec(code, run_globals)\n>>> \n>>>   File \"/usr/local/lib/python3.7/dist-packages/ipykernel_launcher.py\", line 16, in <module>\n>>>     app.launch_new_instance()\n>>> \n>>>   File \"/usr/local/lib/python3.7/dist-packages/traitlets/config/application.py\", line 846, in launch_instance\n>>>     app.start()\n>>> \n>>>   File \"/usr/local/lib/python3.7/dist-packages/ipykernel/kernelapp.py\", line 499, in start\n>>>     self.io_loop.start()\n>>> \n>>>   File \"/usr/local/lib/python3.7/dist-packages/tornado/platform/asyncio.py\", line 132, in start\n>>>     self.asyncio_loop.run_forever()\n>>> \n>>>   File \"/usr/lib/python3.7/asyncio/base_events.py\", line 541, in run_forever\n>>>     self._run_once()\n>>> \n>>>   File \"/usr/lib/python3.7/asyncio/base_events.py\", line 1786, in _run_once\n>>>     handle._run()\n>>> \n>>>   File \"/usr/lib/python3.7/asyncio/events.py\", line 88, in _run\n>>>     self._context.run(self._callback, *self._args)\n>>> \n>>>   File \"/usr/local/lib/python3.7/dist-packages/tornado/platform/asyncio.py\", line 122, in _handle_events\n>>>     handler_func(fileobj, events)\n>>> \n>>>   File \"/usr/local/lib/python3.7/dist-packages/tornado/stack_context.py\", line 300, in null_wrapper\n>>>     return fn(*args, **kwargs)\n>>> \n>>>   File \"/usr/local/lib/python3.7/dist-packages/zmq/eventloop/zmqstream.py\", line 452, in _handle_events\n>>>     self._handle_recv()\n>>> \n>>>   File \"/usr/local/lib/python3.7/dist-packages/zmq/eventloop/zmqstream.py\", line 481, in _handle_recv\n>>>     self._run_callback(callback, msg)\n>>> \n>>>   File \"/usr/local/lib/python3.7/dist-packages/zmq/eventloop/zmqstream.py\", line 431, in _run_callback\n>>>     callback(*args, **kwargs)\n>>> \n>>>   File \"/usr/local/lib/python3.7/dist-packages/tornado/stack_context.py\", line 300, in null_wrapper\n>>>     return fn(*args, **kwargs)\n>>> \n>>>   File \"/usr/local/lib/python3.7/dist-packages/ipykernel/kernelbase.py\", line 283, in dispatcher\n>>>     return self.dispatch_shell(stream, msg)\n>>> \n>>>   File \"/usr/local/lib/python3.7/dist-packages/ipykernel/kernelbase.py\", line 233, in dispatch_shell\n>>>     handler(stream, idents, msg)\n>>> \n>>>   File \"/usr/local/lib/python3.7/dist-packages/ipykernel/kernelbase.py\", line 399, in execute_request\n>>>     user_expressions, allow_stdin)\n>>> \n>>>   File \"/usr/local/lib/python3.7/dist-packages/ipykernel/ipkernel.py\", line 208, in do_execute\n>>>     res = shell.run_cell(code, store_history=store_history, silent=silent)\n>>> \n>>>   File \"/usr/local/lib/python3.7/dist-packages/ipykernel/zmqshell.py\", line 537, in run_cell\n>>>     return super(ZMQInteractiveShell, self).run_cell(*args, **kwargs)\n>>> \n>>>   File \"/usr/local/lib/python3.7/dist-packages/IPython/core/interactiveshell.py\", line 2718, in run_cell\n>>>     interactivity=interactivity, compiler=compiler, result=result)\n>>> \n>>>   File \"/usr/local/lib/python3.7/dist-packages/IPython/core/interactiveshell.py\", line 2828, in run_ast_nodes\n>>>     if self.run_code(code, result):\n>>> \n>>>   File \"/usr/local/lib/python3.7/dist-packages/IPython/core/interactiveshell.py\", line 2882, in run_code\n>>>     exec(code_obj, self.user_global_ns, self.user_ns)\n>>> \n>>>   File \"<ipython-input-12-3dda8d4b902d>\", line 6, in <module>\n>>>     validation_split=0.3)\n>>> \n>>>   File \"/usr/local/lib/python3.7/dist-packages/keras/utils/traceback_utils.py\", line 64, in error_handler\n>>>     return fn(*args, **kwargs)\n>>> \n>>>   File \"/usr/local/lib/python3.7/dist-packages/keras/engine/training.py\", line 1216, in fit\n>>>     tmp_logs = self.train_function(iterator)\n>>> \n>>>   File \"/usr/local/lib/python3.7/dist-packages/keras/engine/training.py\", line 878, in train_function\n>>>     return step_function(self, iterator)\n>>> \n>>>   File \"/usr/local/lib/python3.7/dist-packages/keras/engine/training.py\", line 867, in step_function\n>>>     outputs = model.distribute_strategy.run(run_step, args=(data,))\n>>> \n>>>   File \"/usr/local/lib/python3.7/dist-packages/keras/engine/training.py\", line 860, in run_step\n>>>     outputs = model.train_step(data)\n>>> \n>>>   File \"/usr/local/lib/python3.7/dist-packages/keras/engine/training.py\", line 816, in train_step\n>>>     self.optimizer.minimize(loss, self.trainable_variables, tape=tape)\n>>> \n>>>   File \"/usr/local/lib/python3.7/dist-packages/keras/optimizer_v2/optimizer_v2.py\", line 531, in minimize\n>>>     loss, var_list=var_list, grad_loss=grad_loss, tape=tape)\n>>> \n>>>   File \"/usr/local/lib/python3.7/dist-packages/keras/optimizer_v2/optimizer_v2.py\", line 583, in _compute_gradients\n>>>     grads_and_vars = self._get_gradients(tape, loss, var_list, grad_loss)\n>>> \n>>>   File \"/usr/local/lib/python3.7/dist-packages/keras/optimizer_v2/optimizer_v2.py\", line 464, in _get_gradients\n>>>     grads = tape.gradient(loss, var_list, grad_loss)\n>>> "
          ]
        }
      ]
    },
    {
      "cell_type": "code",
      "source": [
        ""
      ],
      "metadata": {
        "id": "aUh5alQaPNSA"
      },
      "id": "aUh5alQaPNSA",
      "execution_count": null,
      "outputs": []
    },
    {
      "cell_type": "code",
      "execution_count": null,
      "metadata": {
        "colab": {
          "base_uri": "https://localhost:8080/"
        },
        "id": "Iiwzwjg-OkyG",
        "outputId": "df11fee0-af9c-4d0b-dc05-233a40be0fef"
      },
      "outputs": [
        {
          "name": "stdout",
          "output_type": "stream",
          "text": [
            "adc.json                     \u001b[0m\u001b[01;34msample_data\u001b[0m/            X_train_full.pkl\n",
            "all_cases_sept20.pickle      \u001b[01;34msaved_model\u001b[0m/            y_test.pkl\n",
            "dataset_boxed_sept15.pickle  X_test.pkl              y_train_full.pkl\n",
            "\u001b[01;34mdrive\u001b[0m/                       X_train_full_0_48.pkl\n",
            "outcome_sept20.csv           X_train_full_48_96.pkl\n"
          ]
        }
      ],
      "source": [
        "%ls"
      ],
      "id": "Iiwzwjg-OkyG"
    },
    {
      "cell_type": "code",
      "execution_count": 19,
      "metadata": {
        "id": "30WrbW4AKv_b"
      },
      "outputs": [],
      "source": [
        "!mkdir -p saved_model\n",
        "model_vgg_ab.save('saved_model/model_vgg_ab_jan20_02.h5') \n",
        "#model_vgg_ab.save('model_vgg_ab' + '.h5') "
      ],
      "id": "30WrbW4AKv_b"
    },
    {
      "cell_type": "code",
      "execution_count": null,
      "metadata": {
        "id": "eILKctOLKX3E"
      },
      "outputs": [],
      "source": [
        "!cp 'saved_model/model_vgg_ab_sep22_02.h5' '/content/drive/My Drive/Colab_Notebooks/data/'"
      ],
      "id": "eILKctOLKX3E"
    },
    {
      "cell_type": "code",
      "source": [
        "np.shape(X_test)"
      ],
      "metadata": {
        "colab": {
          "base_uri": "https://localhost:8080/"
        },
        "id": "IF9jw_qoNVIj",
        "outputId": "0b8799c4-f54e-46b3-b078-9498e631d58c"
      },
      "id": "IF9jw_qoNVIj",
      "execution_count": 18,
      "outputs": [
        {
          "output_type": "execute_result",
          "data": {
            "text/plain": [
              "(15, 199, 154, 167)"
            ]
          },
          "metadata": {},
          "execution_count": 18
        }
      ]
    },
    {
      "cell_type": "code",
      "source": [
        "from sklearn.metrics import confusion_matrix"
      ],
      "metadata": {
        "id": "Mu7CkpLXNs1G"
      },
      "id": "Mu7CkpLXNs1G",
      "execution_count": 23,
      "outputs": []
    },
    {
      "cell_type": "code",
      "execution_count": 15,
      "metadata": {
        "colab": {
          "base_uri": "https://localhost:8080/"
        },
        "id": "rfsbqx29K1jw",
        "outputId": "352c7d9a-fd86-4f57-99d8-62c2420a2e53"
      },
      "outputs": [
        {
          "output_type": "stream",
          "name": "stdout",
          "text": [
            "Evaluate on test data\n",
            "1/1 [==============================] - 2s 2s/step - loss: 0.6708 - acc: 0.7000\n",
            "test loss, test acc: [0.670837938785553, 0.699999988079071]\n",
            "[[0 3]\n",
            " [0 7]]\n",
            "Evaluate on test data\n",
            "1/1 [==============================] - 0s 235ms/step - loss: 0.6588 - acc: 0.8000\n",
            "test loss, test acc: [0.6587743759155273, 0.800000011920929]\n",
            "[[0 1]\n",
            " [0 4]]\n"
          ]
        }
      ],
      "source": [
        "#np.shape((tf.expand_dims(X_test, axis=-1))\n",
        "\n",
        "# Evaluate the model on the test data using `evaluate`\n",
        "print(\"Evaluate on test data\")\n",
        "results = model_vgg_ab.evaluate((tf.expand_dims(X_test[0:10], axis=-1)), y_test[0:10])\n",
        "print(\"test loss, test acc:\", results)\n",
        "\n",
        "y_pred = model_vgg_ab.predict(tf.expand_dims(X_test[0:10], axis=-1))\n",
        "print(confusion_matrix( y_test[0:10], np.rint(y_pred)))\n",
        "\n",
        "\n",
        "print(\"Evaluate on test data\")\n",
        "results = model_vgg_ab.evaluate((tf.expand_dims(X_test[10:], axis=-1)), y_test[10:])\n",
        "print(\"test loss, test acc:\", results)\n",
        "\n",
        "y_pred = model_vgg_ab.predict(tf.expand_dims(X_test[10:], axis=-1))\n",
        "print(confusion_matrix( y_test[10:], np.rint(y_pred)))"
      ],
      "id": "rfsbqx29K1jw"
    },
    {
      "cell_type": "code",
      "source": [
        "y_pred"
      ],
      "metadata": {
        "colab": {
          "base_uri": "https://localhost:8080/"
        },
        "id": "c_kd-rPtOEGn",
        "outputId": "0b4ff508-7090-4d7d-e394-d0f9b5d8424f"
      },
      "id": "c_kd-rPtOEGn",
      "execution_count": 28,
      "outputs": [
        {
          "output_type": "execute_result",
          "data": {
            "text/plain": [
              "array([[0.52875566],\n",
              "       [0.52875566],\n",
              "       [0.52875566],\n",
              "       [0.52875566],\n",
              "       [0.52875566],\n",
              "       [0.52875566],\n",
              "       [0.52875566],\n",
              "       [0.52875566],\n",
              "       [0.52875566],\n",
              "       [0.52875566]], dtype=float32)"
            ]
          },
          "metadata": {},
          "execution_count": 28
        }
      ]
    },
    {
      "cell_type": "code",
      "source": [
        "#np.shape((tf.expand_dims(X_test, axis=-1))\n",
        "\n",
        "# Evaluate the model on the test data using `evaluate`\n",
        "print(\"Evaluate on test data\")\n",
        "results = model_vgg_ab.evaluate((tf.expand_dims(X_test, axis=-1)), y_test)\n",
        "print(\"test loss, test acc:\", results)"
      ],
      "metadata": {
        "colab": {
          "base_uri": "https://localhost:8080/"
        },
        "id": "2JZ6K-oCHdZg",
        "outputId": "79a40d0b-5553-4c92-8c48-e583110f3475"
      },
      "id": "2JZ6K-oCHdZg",
      "execution_count": 12,
      "outputs": [
        {
          "output_type": "stream",
          "name": "stdout",
          "text": [
            "Evaluate on test data\n",
            "1/1 [==============================] - 2s 2s/step - loss: 1.0360 - acc: 0.5333\n",
            "test loss, test acc: [1.0359885692596436, 0.5333333611488342]\n"
          ]
        }
      ]
    },
    {
      "cell_type": "code",
      "source": [
        "# from sklearn.metrics import roc_curve\n",
        "# y_pred_keras = model_vgg_ab.predict(tf.expand_dims(X_test, axis=-1)).ravel()\n",
        "# fpr_keras, tpr_keras, thresholds_keras = roc_curve(y_test, y_pred_keras)\n",
        "\n",
        "# from sklearn.metrics import auc\n",
        "# auc_keras = auc(fpr_keras, tpr_keras)"
      ],
      "metadata": {
        "id": "KEteGYmbCHKm"
      },
      "id": "KEteGYmbCHKm",
      "execution_count": 15,
      "outputs": []
    },
    {
      "cell_type": "code",
      "source": [
        "y_pred = model_vgg_ab.predict(X_test)\n",
        "\n",
        "print(\"TEST DATA ---- Confusion Matrix:\")\n",
        "print(confusion_matrix(y_test, y_pred))"
      ],
      "metadata": {
        "id": "Oa2Q9neYPxH-"
      },
      "id": "Oa2Q9neYPxH-",
      "execution_count": null,
      "outputs": []
    },
    {
      "cell_type": "code",
      "source": [
        "y_pred = model_vgg_ab.predict(tf.expand_dims(X_test, axis=-1)).ravel()\n",
        "\n",
        "nn_fpr_keras, nn_tpr_keras, nn_thresholds_keras = sklearn.metrics.roc_curve(y_test, y_pred, pos_label = 1)\n",
        "auc_keras = auc(nn_fpr_keras, nn_tpr_keras)\n",
        "plt.plot(nn_fpr_keras, nn_tpr_keras, marker='.', label='Neural Network (auc = %0.3f)' % auc_keras)\n",
        "\n",
        "auc_keras\n",
        "nn_thresholds_keras\n",
        "\n"
      ],
      "metadata": {
        "id": "kgnm9pG0Cggg"
      },
      "id": "kgnm9pG0Cggg",
      "execution_count": null,
      "outputs": []
    },
    {
      "cell_type": "code",
      "source": [
        "np.rint(y_pred)\n",
        "nn_fpr_keras\n",
        "nn_tpr_keras"
      ],
      "metadata": {
        "colab": {
          "base_uri": "https://localhost:8080/"
        },
        "id": "LZ_3F6geFLdh",
        "outputId": "5911f068-3d71-4415-f315-8eb8b22e366e"
      },
      "id": "LZ_3F6geFLdh",
      "execution_count": 69,
      "outputs": [
        {
          "output_type": "execute_result",
          "data": {
            "text/plain": [
              "array([1., 1., 1., 1., 1., 1., 1., 1., 1., 1., 1., 1., 1., 1., 1.],\n",
              "      dtype=float32)"
            ]
          },
          "metadata": {},
          "execution_count": 69
        },
        {
          "output_type": "execute_result",
          "data": {
            "text/plain": [
              "array([0., 1.])"
            ]
          },
          "metadata": {},
          "execution_count": 69
        },
        {
          "output_type": "execute_result",
          "data": {
            "text/plain": [
              "array([0., 1.])"
            ]
          },
          "metadata": {},
          "execution_count": 69
        }
      ]
    },
    {
      "cell_type": "code",
      "source": [
        "np.shape(X_test)\n",
        "np.shape(tf.expand_dims(X_test, axis=-1))\n",
        "np.shape(X_train_full)"
      ],
      "metadata": {
        "colab": {
          "base_uri": "https://localhost:8080/"
        },
        "id": "WfugSmrkEUGk",
        "outputId": "a8d42a94-5195-4798-e978-1f8392be359b"
      },
      "id": "WfugSmrkEUGk",
      "execution_count": 58,
      "outputs": [
        {
          "output_type": "execute_result",
          "data": {
            "text/plain": [
              "(15, 199, 154, 167)"
            ]
          },
          "metadata": {},
          "execution_count": 58
        },
        {
          "output_type": "execute_result",
          "data": {
            "text/plain": [
              "TensorShape([15, 199, 154, 167, 1])"
            ]
          },
          "metadata": {},
          "execution_count": 58
        },
        {
          "output_type": "execute_result",
          "data": {
            "text/plain": [
              "(114, 199, 154, 167, 1)"
            ]
          },
          "metadata": {},
          "execution_count": 58
        }
      ]
    }
  ],
  "metadata": {
    "accelerator": "GPU",
    "colab": {
      "collapsed_sections": [],
      "machine_shape": "hm",
      "name": "CNM_radiomics_script_04_colab.ipynb",
      "provenance": [],
      "background_execution": "on"
    },
    "kernelspec": {
      "display_name": "Python 3",
      "language": "python",
      "name": "python3"
    },
    "language_info": {
      "codemirror_mode": {
        "name": "ipython",
        "version": 3
      },
      "file_extension": ".py",
      "mimetype": "text/x-python",
      "name": "python",
      "nbconvert_exporter": "python",
      "pygments_lexer": "ipython3",
      "version": "3.9.5"
    }
  },
  "nbformat": 4,
  "nbformat_minor": 5
}